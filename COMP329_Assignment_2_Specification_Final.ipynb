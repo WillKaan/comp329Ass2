{
 "cells": [
  {
   "cell_type": "markdown",
   "metadata": {},
   "source": [
    "## Assignment 2\n",
    "## Weight: 20%\n",
    "## Unit - COMP329: Artificial Intelligence\n",
    "## Date of Release: 18 October, 2018\n",
    "## Date of Submission: 07 November, 2018 [11: 55 pm]\n"
   ]
  },
  {
   "cell_type": "markdown",
   "metadata": {},
   "source": [
    "### Write your Details below:"
   ]
  },
  {
   "cell_type": "raw",
   "metadata": {},
   "source": [
    "Registration Number: 43666825\n",
    "Name of the student: William Kaan"
   ]
  },
  {
   "cell_type": "markdown",
   "metadata": {},
   "source": [
    "# The goal of this assignment is to appreciate the power of Evolutionary Algorithms (e.g., Genetic Algorithm, or GA in short) for solving real-world problems such as the Travelling Salesman Problem (TSP) and simple adversarial games such as Tic-Tac-Toe."
   ]
  },
  {
   "cell_type": "markdown",
   "metadata": {},
   "source": [
    "## Travelling Salesman Problem:\n",
    "### Acknowledgment: \n",
    "#### The following is largely based on Peter Norvig's note on TSP: (https://github.com/norvig/pytudes/blob/master/ipynb/TSP.ipynb)\n",
    "#### Given a set of cities and the distance between each pair of cities, what is the shortest possible tour that visits each city exactly once, and returns to the starting city?"
   ]
  },
  {
   "cell_type": "markdown",
   "metadata": {},
   "source": [
    "<img src=\"tsp.png\">"
   ]
  },
  {
   "cell_type": "markdown",
   "metadata": {},
   "source": [
    "#### Let's us define the problem more precisely\n",
    "- ***Given a set of cities***\n",
    "<br>A Python `set` could represent a set of cities. An individual city might be just an integer index, or it might be (x, y) coordinates.\n",
    "- ... ***and the distance between each pair of cities***: \n",
    "<br>We could use either a function, `distance(A, B),` or a table, `distance[A, B]`.\n",
    "- ... ***what is the shortest possible tour***\n",
    "<br>A tour is a sequential order in which to visit the cities; a function `shortest_tour(tours)` should find the one that minimizes `tour_length(tour)`, which is the sum of the distances between adjacent cities in the tour. \n",
    "- ... ***that visits each city once and returns to the starting city***\n",
    "<br>Make sure a tour doesn't re-visit a city (except returning to the start)."
   ]
  },
  {
   "cell_type": "markdown",
   "metadata": {},
   "source": [
    "### The *vocabulary* of the problem:\n",
    "\n",
    "- **City**: For the purpose of this exercise, a city is \"atomic\" in the sense that we don't have to know anything about the components or attributes of a city, just how far it is from other cities.\n",
    "- **Cities**: We will need to represent a set of cities; Python's `set` datatype might be appropriate for that.\n",
    "- **Distance**: We will need the distance between two cities.  If `A` and `B` are cities. This could be done with a function, `distance(A, B)`, or with a dict, `distance[A][B]` or `distance[A, B]`, or with an array if `A` and `B` are integer indexes.  The resulting distance will be a real number (which Python calls a `float`).\n",
    "- **Tour**: A tour is an ordered list of cities; Python's `list` or `tuple` datatypes would work.\n",
    "- **Total distance**: The sum of the distances of adjacent cities in the tour. "
   ]
  },
  {
   "cell_type": "code",
   "execution_count": 1,
   "metadata": {},
   "outputs": [],
   "source": [
    "import matplotlib.pyplot as plt\n",
    "import matplotlib.colors as colors\n",
    "import matplotlib.cm as cmx\n",
    "\n",
    "import random, operator, time, itertools, math\n",
    "import numpy\n",
    "\n",
    "%matplotlib inline\n",
    "#%config InlineBackend.figure_format = 'retina'\n",
    "#plt.rc('text', usetex=True)\n",
    "#plt.rc('font', family='serif')\n",
    "#plt.rcParams['text.latex.preamble'] ='\\\\usepackage{libertine}\\n\\\\usepackage[utf8]{inputenc}'\n",
    "\n",
    "import seaborn\n",
    "seaborn.set(style='whitegrid')\n",
    "seaborn.set_context('notebook')"
   ]
  },
  {
   "cell_type": "markdown",
   "metadata": {},
   "source": [
    "### First algorithm: find the tour with shortest total distance from all possible tours\n",
    "\n",
    "> *Generate all the possible tours of the cities, and choose the shortest one (the tour with the minimum total distance).*\n",
    "\n",
    "### Representing Tours\n",
    "\n",
    "- A tour starts in one city, and then visits each of the other cities in order, before finally retirning to the start. \n",
    "- A natural representation of the set of available cities is a Python `set`, and a natural representation of a tour is a sequence that is a *permutation* of the set. \n",
    "- The tuple `(1, 2, 3)`, for example, represents a tour that starts in city 1, moves to 2, then 3, and then returns to 1 to finish the tour."
   ]
  },
  {
   "cell_type": "code",
   "execution_count": 2,
   "metadata": {},
   "outputs": [
    {
     "data": {
      "text/plain": [
       "[(1, 2, 3), (1, 3, 2), (2, 1, 3), (2, 3, 1), (3, 1, 2), (3, 2, 1)]"
      ]
     },
     "execution_count": 2,
     "metadata": {},
     "output_type": "execute_result"
    }
   ],
   "source": [
    "alltours = itertools.permutations\n",
    "cities = {1, 2, 3}\n",
    "list(alltours(cities))"
   ]
  },
  {
   "cell_type": "markdown",
   "metadata": {},
   "source": [
    "### Representing Cities and Distance\n",
    "\n",
    "Now for the notion of *distance*.  We define `total_distance(tour)` as the sum of the distances between consecutive cities in the tour; that part is shown below and is easy (with one Python-specific trick: when `i` is 0, then `distance(tour[0], tour[-1])` gives us the wrap-around distance between the first and last cities, because `tour[-1]` is the last element of `tour`). \n"
   ]
  },
  {
   "cell_type": "code",
   "execution_count": 3,
   "metadata": {},
   "outputs": [],
   "source": [
    "def total_distance(tour):\n",
    "    \"The total distance between each pair of consecutive cities in the tour.\"\n",
    "    return sum(distance(tour[i], tour[i-1]) \n",
    "               for i in range(len(tour)))"
   ]
  },
  {
   "cell_type": "code",
   "execution_count": 4,
   "metadata": {},
   "outputs": [],
   "source": [
    "def exact_TSP(cities):\n",
    "    \"Generate all possible tours of the cities and choose the shortest one.\"\n",
    "    return shortest(alltours(cities))\n",
    "\n",
    "def shortest(tours): \n",
    "    \"Return the tour with the minimum total distance.\"\n",
    "    return min(tours, key=total_distance)"
   ]
  },
  {
   "cell_type": "markdown",
   "metadata": {},
   "source": [
    "### Representing distance between cities"
   ]
  },
  {
   "cell_type": "code",
   "execution_count": 5,
   "metadata": {},
   "outputs": [],
   "source": [
    "City = complex # Constructor for new cities, e.g. City(300, 400)"
   ]
  },
  {
   "cell_type": "code",
   "execution_count": 6,
   "metadata": {},
   "outputs": [],
   "source": [
    "def distance(A, B): \n",
    "    \"The Euclidean distance between two cities.\"\n",
    "    return abs(A - B)"
   ]
  },
  {
   "cell_type": "code",
   "execution_count": 7,
   "metadata": {},
   "outputs": [
    {
     "data": {
      "text/plain": [
       "500.0"
      ]
     },
     "execution_count": 7,
     "metadata": {},
     "output_type": "execute_result"
    }
   ],
   "source": [
    "# An example to show the distance between city A and city B\n",
    "A = City(300, 0)\n",
    "B = City(0, 400)\n",
    "distance(A, B)"
   ]
  },
  {
   "cell_type": "code",
   "execution_count": 8,
   "metadata": {},
   "outputs": [],
   "source": [
    "# function to generate n cities randomly using random number generator\n",
    "def generate_cities(n):\n",
    "    \"Make a set of n cities, each with random coordinates.\"\n",
    "    return set(City(random.randrange(10, 890), \n",
    "                    random.randrange(10, 590)) \n",
    "               for c in range(n))"
   ]
  },
  {
   "cell_type": "code",
   "execution_count": 9,
   "metadata": {},
   "outputs": [],
   "source": [
    "# Generating cities\n",
    "cities8, cities10, cities100, cities1000 = generate_cities(8), generate_cities(10), generate_cities(100), generate_cities(1000)"
   ]
  },
  {
   "cell_type": "code",
   "execution_count": 10,
   "metadata": {},
   "outputs": [
    {
     "data": {
      "text/plain": [
       "{(203+551j),\n",
       " (209+349j),\n",
       " (340+145j),\n",
       " (476+151j),\n",
       " (503+346j),\n",
       " (534+236j),\n",
       " (595+515j),\n",
       " (617+331j),\n",
       " (65+477j),\n",
       " (680+356j)}"
      ]
     },
     "execution_count": 10,
     "metadata": {},
     "output_type": "execute_result"
    }
   ],
   "source": [
    "# Getting coordinates for 10 cities\n",
    "cities10"
   ]
  },
  {
   "cell_type": "markdown",
   "metadata": {},
   "source": [
    "### functions to plot the tour"
   ]
  },
  {
   "cell_type": "code",
   "execution_count": 11,
   "metadata": {},
   "outputs": [],
   "source": [
    "def plot_tour(tour, alpha=1, color=None):\n",
    "    # Plot the tour as blue lines between blue circles, and the starting city as a red square.\n",
    "    plotline(list(tour) + [tour[0]], alpha=alpha, color=color)\n",
    "    plotline([tour[0]], style='gD', alpha=alpha, size=10)\n",
    "    plt.show()\n",
    "    \n",
    "def plotline(points, style='bo-', alpha=1, size=7, color=None):\n",
    "    \"Plot a list of points (complex numbers) in the 2-D plane.\"\n",
    "    X, Y = XY(points)\n",
    "    \n",
    "    if color:\n",
    "        plt.plot(X, Y, style, alpha=alpha, markersize=size, color=color)\n",
    "    else:\n",
    "        plt.plot(X, Y, style, alpha=alpha, markersize=size)\n",
    "    \n",
    "def XY(points):\n",
    "    \"Given a list of points, return two lists: X coordinates, and Y coordinates.\"\n",
    "    return [p.real for p in points], [p.imag for p in points]"
   ]
  },
  {
   "cell_type": "code",
   "execution_count": 12,
   "metadata": {},
   "outputs": [
    {
     "data": {
      "image/png": "[encoded data removed]",
      "text/plain": [
       "<Figure size 432x288 with 1 Axes>"
      ]
     },
     "metadata": {},
     "output_type": "display_data"
    }
   ],
   "source": [
    "tour = exact_TSP(cities10)\n",
    "plot_tour(tour)"
   ]
  },
  {
   "cell_type": "markdown",
   "metadata": {},
   "source": [
    "### Removing redundant tours to increase efficiency\n",
    "The permutation `(1, 2, 3)` represents the tour that goes from 1 to 2 to 3 and back to 1.  You may have noticed that there aren't really six different tours of three cities: the cities 1, 2, and 3 form a triangle;  any tour must connect the three points of the triangle; and there are really only two ways to do this: clockwise or counterclockwise.   In general, with $n$ cities, there are $n!$ (that is, $n$ factorial) permutations, but only  $(n-1)!$,  tours that are *distinct*: the tours `123`, `231`, and `312` are three ways of representing the *same* tour.\n",
    "\n",
    "So we can make our `TSP` program $n$ times faster by never considering redundant tours. Arbitrarily, we will say that all tours must start with the \"first\" city in the set of cities. We don't have to change the definition of `TSP`&mdash;just by making `alltours` return only nonredundant tours, the whole program gets faster.\n"
   ]
  },
  {
   "cell_type": "code",
   "execution_count": 13,
   "metadata": {},
   "outputs": [],
   "source": [
    "def all_non_redundant_tours(cities):\n",
    "    \"Return a list of tours, each a permutation of cities, but each one starting with the same city.\"\n",
    "    start = first(cities)\n",
    "    return [[start] + list(tour)\n",
    "            for tour in itertools.permutations(cities - {start})]\n",
    "\n",
    "def first(collection):\n",
    "    \"Start iterating over collection, and return the first element.\"\n",
    "    for x in collection: return x\n",
    "\n",
    "def exact_non_redundant_TSP(cieaties):\n",
    "    \"Generate all possible tours of the cities and choose the shortest one.\"\n",
    "    return shortest(all_non_redundant_tours(cities))"
   ]
  },
  {
   "cell_type": "code",
   "execution_count": 14,
   "metadata": {},
   "outputs": [
    {
     "data": {
      "text/plain": [
       "[[1, 2, 3], [1, 3, 2]]"
      ]
     },
     "execution_count": 14,
     "metadata": {},
     "output_type": "execute_result"
    }
   ],
   "source": [
    "all_non_redundant_tours({1, 2, 3})"
   ]
  },
  {
   "cell_type": "markdown",
   "metadata": {},
   "source": [
    "### finding time based on First Approach: Exhaustive Search"
   ]
  },
  {
   "cell_type": "code",
   "execution_count": 15,
   "metadata": {},
   "outputs": [
    {
     "name": "stdout",
     "output_type": "stream",
     "text": [
      "276 ms ± 40.5 ms per loop (mean ± std. dev. of 7 runs, 1 loop each)\n"
     ]
    }
   ],
   "source": [
    "%timeit exact_TSP(cities8)"
   ]
  },
  {
   "cell_type": "code",
   "execution_count": 16,
   "metadata": {},
   "outputs": [
    {
     "name": "stdout",
     "output_type": "stream",
     "text": [
      "9.09 µs ± 311 ns per loop (mean ± std. dev. of 7 runs, 100000 loops each)\n"
     ]
    }
   ],
   "source": [
    "%timeit exact_non_redundant_TSP(cities8)"
   ]
  },
  {
   "cell_type": "markdown",
   "metadata": {},
   "source": [
    "## Second approach: Approximate (Heuristic) algorithms"
   ]
  },
  {
   "cell_type": "markdown",
   "metadata": {},
   "source": [
    "### Greedy approach (Nearest Neighbor approach)\n",
    "> *Start at any city; at each step extend the tour by moving from the previous city to its nearest neighbor that has not yet been visited.*\n",
    "\n",
    "This is called a *greedy algorithm*, because it greedily takes what looks best in the short term (the nearest neighbor) even when that won't always be the best in the long term. "
   ]
  },
  {
   "cell_type": "code",
   "execution_count": 17,
   "metadata": {},
   "outputs": [],
   "source": [
    "def greedy_TSP(cities):\n",
    "    \"At each step, visit the nearest neighbor that is still unvisited.\"\n",
    "    start = first(cities)\n",
    "    tour = [start]\n",
    "    unvisited = cities - {start}\n",
    "    while unvisited:\n",
    "        C = nearest_neighbor(tour[-1], unvisited)\n",
    "        tour.append(C)\n",
    "        unvisited.remove(C)\n",
    "    return tour"
   ]
  },
  {
   "cell_type": "code",
   "execution_count": 18,
   "metadata": {},
   "outputs": [],
   "source": [
    "def nearest_neighbor(A, cities):\n",
    "    \"Find the city in cities that is nearest to city A.\"\n",
    "    return min(cities, key=lambda x: distance(x, A))"
   ]
  },
  {
   "cell_type": "code",
   "execution_count": 19,
   "metadata": {},
   "outputs": [],
   "source": [
    "cities = generate_cities(10)"
   ]
  },
  {
   "cell_type": "code",
   "execution_count": 20,
   "metadata": {},
   "outputs": [
    {
     "name": "stdout",
     "output_type": "stream",
     "text": [
      "2.78 s ± 397 ms per loop (mean ± std. dev. of 7 runs, 1 loop each)\n"
     ]
    }
   ],
   "source": [
    "%timeit exact_non_redundant_TSP(cities)"
   ]
  },
  {
   "cell_type": "code",
   "execution_count": 21,
   "metadata": {},
   "outputs": [
    {
     "data": {
      "image/png": "[encoded data removed]",
      "text/plain": [
       "<Figure size 432x288 with 1 Axes>"
      ]
     },
     "metadata": {},
     "output_type": "display_data"
    }
   ],
   "source": [
    "plot_tour(exact_non_redundant_TSP(cities))"
   ]
  },
  {
   "cell_type": "code",
   "execution_count": 22,
   "metadata": {},
   "outputs": [
    {
     "name": "stdout",
     "output_type": "stream",
     "text": [
      "44.3 µs ± 4.6 µs per loop (mean ± std. dev. of 7 runs, 10000 loops each)\n"
     ]
    }
   ],
   "source": [
    "%timeit greedy_TSP(cities)"
   ]
  },
  {
   "cell_type": "code",
   "execution_count": 23,
   "metadata": {},
   "outputs": [
    {
     "data": {
      "image/png": "[encoded data removed]",
      "text/plain": [
       "<Figure size 432x288 with 1 Axes>"
      ]
     },
     "metadata": {},
     "output_type": "display_data"
    }
   ],
   "source": [
    "plot_tour(greedy_TSP(cities))"
   ]
  },
  {
   "cell_type": "markdown",
   "metadata": {},
   "source": [
    "Comparing the time taken to get results for 10 cities, it is clear that greedy approach is efficient compared to the exhaustive search.\n",
    "\n",
    "A [greedy algorithm](http://en.wikipedia.org/wiki/Greedy_algorithm) is an algorithm that follows the problem solving heuristic of making the locally optimal choice at each stage with the hope of finding a global optimum. In many problems, a greedy strategy does not in general produce an optimal solution, but nonetheless a greedy heuristic may yield locally optimal solutions that approximate a global optimal solution in a reasonable time.\n",
    "\n",
    "For many problmes greedy algorithms fail to produce the optimal solution, and may even produce the *unique worst possible solution*."
   ]
  },
  {
   "cell_type": "markdown",
   "metadata": {},
   "source": [
    "### A thought on computational complexity\n",
    "\n",
    "<img src='http://imgs.xkcd.com/comics/travelling_salesman_problem.png' align='center' width='65%'/>\n"
   ]
  },
  {
   "cell_type": "markdown",
   "metadata": {},
   "source": [
    "# Biologically inspired metaheuristic: Genetic Algorithm (GA)\n",
    "\n",
    "- We have already studied GA in our lectures and did practice in our labs for one-max problem\n",
    "- They are an option in which we dedicate a little more computational effort in order to produce better solutions than `greedy_TSP()`.\n",
    "\n",
    "> We will be using the [DEAP](https://github.com/DEAP/deap) library to code this tackle this problem using a genetic algorithm. We have used DEAP in practical classes in this unit.\n",
    "\n",
    "[<img src='https://raw.githubusercontent.com/DEAP/deap/master/doc/_static/deap_long.png' width='29%' align='center'/>](https://github.com/DEAP/deap)"
   ]
  },
  {
   "cell_type": "code",
   "execution_count": 24,
   "metadata": {},
   "outputs": [],
   "source": [
    "from deap import algorithms, base, creator, tools"
   ]
  },
  {
   "cell_type": "code",
   "execution_count": 25,
   "metadata": {},
   "outputs": [],
   "source": [
    "num_cities = 30\n",
    "cities = generate_cities(num_cities)"
   ]
  },
  {
   "cell_type": "code",
   "execution_count": 26,
   "metadata": {},
   "outputs": [],
   "source": [
    "toolbox = base.Toolbox()"
   ]
  },
  {
   "cell_type": "code",
   "execution_count": 27,
   "metadata": {},
   "outputs": [],
   "source": [
    "creator.create(\"FitnessMin\", base.Fitness, weights=(-1.0,))\n",
    "creator.create(\"Individual\", list, fitness=creator.FitnessMin)"
   ]
  },
  {
   "cell_type": "code",
   "execution_count": 28,
   "metadata": {},
   "outputs": [],
   "source": [
    "toolbox.register(\"indices\", numpy.random.permutation, len(cities))\n",
    "toolbox.register(\"individual\", tools.initIterate, creator.Individual,\n",
    "                 toolbox.indices)\n",
    "toolbox.register(\"population\", tools.initRepeat, list, \n",
    "                 toolbox.individual)"
   ]
  },
  {
   "cell_type": "code",
   "execution_count": 29,
   "metadata": {},
   "outputs": [],
   "source": [
    "toolbox.register(\"mate\", tools.cxOrdered)\n",
    "toolbox.register(\"mutate\", tools.mutShuffleIndexes, indpb=0.05)"
   ]
  },
  {
   "cell_type": "code",
   "execution_count": 30,
   "metadata": {},
   "outputs": [],
   "source": [
    "def create_tour(individual):\n",
    "    return [list(cities)[e] for e in individual]"
   ]
  },
  {
   "cell_type": "code",
   "execution_count": 31,
   "metadata": {},
   "outputs": [],
   "source": [
    "def evaluation(individual):\n",
    "    '''Evaluates an individual by converting it into \n",
    "    a list of cities and passing that list to total_distance'''\n",
    "    return (total_distance(create_tour(individual)),)"
   ]
  },
  {
   "cell_type": "code",
   "execution_count": 32,
   "metadata": {},
   "outputs": [],
   "source": [
    "toolbox.register(\"evaluate\", evaluation)"
   ]
  },
  {
   "cell_type": "code",
   "execution_count": 33,
   "metadata": {},
   "outputs": [],
   "source": [
    "toolbox.register(\"select\", tools.selTournament, tournsize=3)"
   ]
  },
  {
   "cell_type": "code",
   "execution_count": 34,
   "metadata": {},
   "outputs": [],
   "source": [
    "pop = toolbox.population(n=100)"
   ]
  },
  {
   "cell_type": "code",
   "execution_count": 35,
   "metadata": {},
   "outputs": [
    {
     "name": "stdout",
     "output_type": "stream",
     "text": [
      "Wall time: 9.97 s\n"
     ]
    }
   ],
   "source": [
    "%%time \n",
    "result, log = algorithms.eaSimple(pop, toolbox,\n",
    "                             cxpb=0.8, mutpb=0.2,\n",
    "                             ngen=400, verbose=False)"
   ]
  },
  {
   "cell_type": "markdown",
   "metadata": {},
   "source": [
    "Let's check the efficiency of GA"
   ]
  },
  {
   "cell_type": "code",
   "execution_count": 36,
   "metadata": {},
   "outputs": [
    {
     "name": "stdout",
     "output_type": "stream",
     "text": [
      "Fitness of the best individual:  (3585.2593917200143,)\n"
     ]
    }
   ],
   "source": [
    "best_individual = tools.selBest(result, k=1)[0]\n",
    "print('Fitness of the best individual: ', evaluation(best_individual))"
   ]
  },
  {
   "cell_type": "code",
   "execution_count": 37,
   "metadata": {
    "scrolled": true
   },
   "outputs": [
    {
     "data": {
      "image/png": "[encoded data removed]",
      "text/plain": [
       "<Figure size 432x288 with 1 Axes>"
      ]
     },
     "metadata": {},
     "output_type": "display_data"
    }
   ],
   "source": [
    "plot_tour(create_tour(best_individual))"
   ]
  },
  {
   "cell_type": "markdown",
   "metadata": {},
   "source": [
    "It is interesting to assess how the fitness of the population changes as the evolution process proceeds. \n",
    "\n",
    "We can prepare a `deap.tools.Statistics` instance to specify what data to collect. "
   ]
  },
  {
   "cell_type": "code",
   "execution_count": 38,
   "metadata": {},
   "outputs": [],
   "source": [
    "fit_stats = tools.Statistics(key=operator.attrgetter(\"fitness.values\"))\n",
    "fit_stats.register('mean', numpy.mean)\n",
    "fit_stats.register('min', numpy.min)"
   ]
  },
  {
   "cell_type": "code",
   "execution_count": 39,
   "metadata": {},
   "outputs": [],
   "source": [
    "result, log = algorithms.eaSimple(toolbox.population(n=100), toolbox,\n",
    "                                  cxpb=0.5, mutpb=0.2,\n",
    "                                  ngen=400, verbose=False,\n",
    "                                  stats=fit_stats)"
   ]
  },
  {
   "cell_type": "markdown",
   "metadata": {},
   "source": [
    "#### Plotting mean and minimum fitness values as evolution proceeds"
   ]
  },
  {
   "cell_type": "code",
   "execution_count": 40,
   "metadata": {},
   "outputs": [
    {
     "data": {
      "image/png": "[encoded data removed]",
      "text/plain": [
       "<Figure size 792x288 with 1 Axes>"
      ]
     },
     "metadata": {},
     "output_type": "display_data"
    }
   ],
   "source": [
    "plt.figure(figsize=(11, 4))\n",
    "plots = plt.plot(log.select('min'),'c-', log.select('mean'), 'b-')\n",
    "plt.legend(plots, ('Minimum fitness', 'Mean fitness'), frameon=True)\n",
    "plt.ylabel('Fitness'); plt.xlabel('Iterations');"
   ]
  },
  {
   "cell_type": "markdown",
   "metadata": {},
   "source": [
    "### Q1. Compare the efficiency (time taken) of Exhaustive search, greedy search and Genetic Algorithm for 30 cities based on the configuration of your machine. If necessary, use estimates, but detail the reason for, and the basis of, the estimates used.  [ 1 Marks]"
   ]
  },
  {
   "cell_type": "code",
   "execution_count": 41,
   "metadata": {},
   "outputs": [
    {
     "name": "stdout",
     "output_type": "stream",
     "text": [
      "261 µs ± 24.5 µs per loop (mean ± std. dev. of 7 runs, 1000 loops each)\n"
     ]
    }
   ],
   "source": [
    "# Write your (expected) output and analysis here\n",
    "num_cities = 30\n",
    "cities = generate_cities(num_cities)\n",
    "#%timeit exact_TSP(cities)\n",
    "%timeit greedy_TSP(cities)\n",
    "#%time result, log = algorithms.eaSimple(pop, toolbox,cxpb=0.8, mutpb=0.2,nngen=400, verbose=False)\n",
    "#%timeit tools.selBest(result, k=1)[0]"
   ]
  },
  {
   "cell_type": "code",
   "execution_count": null,
   "metadata": {},
   "outputs": [],
   "source": []
  },
  {
   "cell_type": "markdown",
   "metadata": {},
   "source": [
    "### Q2. Analyse the effect of population size for the above experiment. Try population size having value [25, 50, 75, 100, 125, 150, 175, 200] [ 1.5 Marks]"
   ]
  },
  {
   "cell_type": "code",
   "execution_count": 42,
   "metadata": {},
   "outputs": [
    {
     "name": "stdout",
     "output_type": "stream",
     "text": [
      "Wall time: 2.19 s\n",
      "Wall time: 4.2 s\n",
      "Wall time: 7.52 s\n",
      "Wall time: 10.3 s\n",
      "Wall time: 12.3 s\n",
      "Wall time: 14.5 s\n",
      "Wall time: 17.1 s\n",
      "Wall time: 20.2 s\n"
     ]
    }
   ],
   "source": [
    "# Write your code here\n",
    "num_cities = 30\n",
    "cities = generate_cities(num_cities)\n",
    "x = [25, 50, 75, 100, 125, 150, 175, 200]\n",
    "for each in x:\n",
    "    pop = toolbox.population(n=each)\n",
    "    %time result, log = algorithms.eaSimple(pop, toolbox,cxpb=0.8, mutpb=0.2,ngen=400, verbose=False)"
   ]
  },
  {
   "cell_type": "raw",
   "metadata": {},
   "source": [
    "Write your analysis here\n",
    "A linear increase in time"
   ]
  },
  {
   "cell_type": "markdown",
   "metadata": {},
   "source": [
    "### Q3. What is the influence  of mutation probability and cross-over probability over the performance of  GA. [ 1.5 Marks]"
   ]
  },
  {
   "cell_type": "code",
   "execution_count": 43,
   "metadata": {},
   "outputs": [
    {
     "name": "stdout",
     "output_type": "stream",
     "text": [
      "Wall time: 2.31 s\n",
      "Wall time: 4.57 s\n",
      "Wall time: 6.8 s\n",
      "Wall time: 8.49 s\n",
      "Wall time: 9.91 s\n",
      "Wall time: 11.9 s\n",
      "Wall time: 14.9 s\n",
      "Wall time: 17.6 s\n"
     ]
    },
    {
     "data": {
      "image/png": "[encoded data removed]",
      "text/plain": [
       "<Figure size 792x288 with 1 Axes>"
      ]
     },
     "metadata": {},
     "output_type": "display_data"
    }
   ],
   "source": [
    "# Write your code here\n",
    "\n",
    "for each in x:\n",
    "    pop = toolbox.population(n=each)\n",
    "    %time result, log = algorithms.eaSimple(pop, toolbox,cxpb=0.5, mutpb=0.5,ngen=400, verbose=False)\n",
    "    best_individual = tools.selBest(result, k=1)[0]\n",
    "    create_tour(best_individual)\n",
    "    \n",
    "plt.figure(figsize=(11, 4))\n",
    "plots = plt.plot(log.select('min'),'c-', log.select('mean'), 'b-')\n",
    "plt.legend(plots, ('Minimum fitness', 'Mean fitness'), frameon=True)\n",
    "plt.ylabel('Fitness'); plt.xlabel('Iterations');\n"
   ]
  },
  {
   "cell_type": "raw",
   "metadata": {},
   "source": [
    "Write your analysis here"
   ]
  },
  {
   "cell_type": "markdown",
   "metadata": {},
   "source": [
    "### Extending GA to real data\n",
    "\n",
    "We are given a set of 14 GPS positions, each coordinate representing a city in Burma (Officially the Republic of the Union of Myanmar). Our objective is to solve the TSP problem over these 14 cities. You need to do bit of independent research for finding the formula to convert the GPS coodinates of two cities (in latitudes and longitudes) to the actual distance between those two cities.\n",
    "\n",
    "City[i] = {LAT[i], LON[i]}"
   ]
  },
  {
   "cell_type": "code",
   "execution_count": 44,
   "metadata": {},
   "outputs": [],
   "source": [
    "LAT = [16.47, 16.47, 20.09, 22.39, 25.23, 22.00, 20.47, \n",
    "        17.20, 16.30, 14.05, 16.53, 21.52, 19.41, 20.09]\n",
    "\n",
    "LON = [96.10, 94.44, 92.54, 93.37, 97.24, 96.05, 97.02, \n",
    "        96.29, 97.38, 98.12, 97.38, 95.59, 97.13, 94.55]\n"
   ]
  },
  {
   "cell_type": "markdown",
   "metadata": {},
   "source": [
    "### Q4. Calculate the total distance (in Kilometres) of a tour starting with city[0], going in the order given to city[1], city[2], ... city[13] and coming back to city[0],  based on *Latitude* and *Longitude* of the 14 cities above. [2 Marks] "
   ]
  },
  {
   "cell_type": "code",
   "execution_count": 45,
   "metadata": {},
   "outputs": [],
   "source": [
    "from math import radians, sin, cos, asin, sqrt\n",
    "\n",
    "def calculateDistance(city1,city2):\n",
    "    lat1 = city1.real\n",
    "    long1 = city1.imag\n",
    "    lat2 = city2.real\n",
    "    long2 = city2.imag\n",
    "    lat1, lat2, long1, long2 = map(radians, [lat1, lat2, long1, long2])\n",
    "    r = 6371000\n",
    "    latD = lat2 - lat1\n",
    "    longD = long2 - long1\n",
    "    p1 = sin(latD/2) ** 2\n",
    "    p2 = cos(lat1) * cos(lat2)\n",
    "    p3 = sin(longD/2)**2\n",
    "    h = p1 + p2 * p3\n",
    "    d = 2 * r * asin(sqrt(h))\n",
    "    return d\n",
    "\n",
    "def total_Circle_distance(tour):\n",
    "    \"The total distance between each pair of consecutive cities in the tour.\"\n",
    "    return sum(calculateDistance(tour[i], tour[i-1]) \n",
    "               for i in range(len(tour)))"
   ]
  },
  {
   "cell_type": "code",
   "execution_count": 46,
   "metadata": {},
   "outputs": [
    {
     "name": "stdout",
     "output_type": "stream",
     "text": [
      "2433161.9395584934\n"
     ]
    },
    {
     "data": {
      "image/png": "[encoded data removed]",
      "text/plain": [
       "<Figure size 432x288 with 1 Axes>"
      ]
     },
     "metadata": {},
     "output_type": "display_data"
    }
   ],
   "source": [
    "# Write your code here\n",
    "Cities = []\n",
    "for i in range(0,8):\n",
    "    Cities.append(City(LAT[i],LON[i]))\n",
    "\n",
    "print(total_Circle_distance(Cities))\n",
    "\n",
    "plot_tour(Cities)"
   ]
  },
  {
   "cell_type": "markdown",
   "metadata": {},
   "source": [
    "### Q5. Provide the optimal route you found employing GA, and its length in kilometers.  [2 Marks]"
   ]
  },
  {
   "cell_type": "code",
   "execution_count": 47,
   "metadata": {},
   "outputs": [
    {
     "name": "stderr",
     "output_type": "stream",
     "text": [
      "C:\\Users\\willk\\Anaconda3\\lib\\site-packages\\deap\\creator.py:141: RuntimeWarning: A class named 'Individual' has already been created and it will be overwritten. Consider deleting previous creation of that class or rename it.\n",
      "  RuntimeWarning)\n"
     ]
    },
    {
     "data": {
      "text/plain": [
       "(2433161.9395584934,)"
      ]
     },
     "execution_count": 47,
     "metadata": {},
     "output_type": "execute_result"
    }
   ],
   "source": [
    "# Write your code here\n",
    "def evaluation2(individual):\n",
    "    '''Evaluates an individual by converting it into \n",
    "    a list of cities and passing that list to total_distance'''\n",
    "    return (total_Circle_distance(create_tour2(individual)),)\n",
    "2\n",
    "def create_tour2(individual):\n",
    "    return [list(Cities)[e] for e in individual]\n",
    "\n",
    "toolbox = base.Toolbox()\n",
    "creator.create(\"Individual\", list, fitness=creator.FitnessMin)\n",
    "toolbox.register(\"indices\", numpy.random.permutation, len(Cities))\n",
    "toolbox.register(\"individual\", tools.initIterate, creator.Individual,\n",
    "                 toolbox.indices)\n",
    "toolbox.register(\"population\", tools.initRepeat, list, \n",
    "                 toolbox.individual)\n",
    "toolbox.register(\"evaluate\", evaluation2)\n",
    "toolbox.register(\"mate\", tools.cxOrdered)\n",
    "toolbox.register(\"mutate\", tools.mutShuffleIndexes, indpb=0.05)\n",
    "toolbox.register(\"select\", tools.selTournament, tournsize=3)\n",
    "\n",
    "result, log = algorithms.eaSimple(toolbox.population(n=200), toolbox,\n",
    "                                  cxpb=0.1, mutpb=0.1,\n",
    "                                  ngen=400, verbose=False,\n",
    "                                  stats=fit_stats)\n",
    "\n",
    "best_individual = tools.selBest(result, k=1)[0]\n",
    "evaluation2(best_individual)"
   ]
  },
  {
   "cell_type": "code",
   "execution_count": 48,
   "metadata": {},
   "outputs": [],
   "source": [
    "fit_stats = tools.Statistics(key=operator.attrgetter(\"fitness.values\"))\n",
    "fit_stats.register('mean', numpy.mean)\n",
    "fit_stats.register('min', numpy.min)"
   ]
  },
  {
   "cell_type": "code",
   "execution_count": 49,
   "metadata": {},
   "outputs": [
    {
     "data": {
      "image/png": "[encoded data removed]",
      "text/plain": [
       "<Figure size 432x288 with 1 Axes>"
      ]
     },
     "metadata": {},
     "output_type": "display_data"
    }
   ],
   "source": [
    "plot_tour(create_tour2(best_individual))"
   ]
  },
  {
   "cell_type": "markdown",
   "metadata": {},
   "source": [
    "### Q6. Describe your fitness function, and the way you encoded the potential solutions. [2 Marks]"
   ]
  },
  {
   "cell_type": "raw",
   "metadata": {},
   "source": [
    "Explain here\n",
    "Use a fitness function of most cases of sucess after move made."
   ]
  },
  {
   "cell_type": "markdown",
   "metadata": {},
   "source": [
    "### Q7. Provide the configuration of the GA you finally used, namely, mutation probability, crossover probability, population size, type of selection, type of mutation, type of crossover, and number of generations. [2 Marks]"
   ]
  },
  {
   "cell_type": "raw",
   "metadata": {},
   "source": [
    "Explain here"
   ]
  },
  {
   "cell_type": "markdown",
   "metadata": {},
   "source": [
    "## Solving Tic-Tac-Toe using Genetic Algorithm (GA)\n",
    "The game of Tic Tac Toe (2D) is played on a 3 by 3 grid.  One player marks her squares with an X, and the other with an O.  The players alternate, placing their marks on an empty cell on the grid with the hope of winning the game.  The winner of the game is the first player to place 3 of their marks in a line (row, column, and diagnoal).  If the entire grid is filled with marks, and there is no winner, the game is declared a draw.  Your task is to create a player to play the 3D version of this game without any knowledge of strategies for playing Tic Tac Toe.  The only rule that is known to this evolving player is that the players alternate their turns, and when it is the evolving player’s turn, it could only place its own mark on an empty spot in the grid. We have already implemented Negamax algorithm to play 3D tic-tac-toe in one of the practicals. In this assignment, we try to solve 3D (3 x 3 x 3) Tic-Tac-Toe game using Genetic Algorithm (GA). "
   ]
  },
  {
   "cell_type": "markdown",
   "metadata": {},
   "source": [
    "### 3D (3 x 3 x 3) tic-tac-toe\n",
    "<img src=\"3d_tic-tac-toe-3d.jpg\" style=\"width: 200px\"/>"
   ]
  },
  {
   "cell_type": "markdown",
   "metadata": {},
   "source": [
    "### Q8. How did you approach the problem of representing the solution space, and why?  Did you face any specific problem for this – for instance, choosing between different possible representations? How did you overcome any such problem? Give as example how, in your approach, Tic-Tac-Toe (3D version) will be represented, and explain clearly how one can read off the strategy for Tic-Tac-Toe from this “chromosome”. [2 Marks] "
   ]
  },
  {
   "cell_type": "raw",
   "metadata": {},
   "source": [
    "Explain here"
   ]
  },
  {
   "cell_type": "markdown",
   "metadata": {},
   "source": [
    "### Q9. What  fitness  function  did you  choose  to  go  with  your  approach,  and  why?   As  before, describe if you faced any specific problem in this context, and how you overcame it. [1 Marks]"
   ]
  },
  {
   "cell_type": "raw",
   "metadata": {},
   "source": [
    "Explain here The use of maintain and having the continual increase is for instances of blocking the opponent"
   ]
  },
  {
   "cell_type": "markdown",
   "metadata": {},
   "source": [
    "### Q10. What parameters for Genetic algorithm did you choose?  For instance what type of crossover did you choose,  with what probability,  and why?  Also outline how you determined that the solution you received is good enough. [2 Marks]"
   ]
  },
  {
   "cell_type": "raw",
   "metadata": {},
   "source": [
    "The uniform crossover is used to maintain "
   ]
  },
  {
   "cell_type": "markdown",
   "metadata": {},
   "source": [
    "### Q11. Provide your complete code for solving 3D (3 x 3 x 3) Tic-Tac-Toe using Genetic Algorithm. Note that this code should be complete (should not call any methods from the above code for solving TSP). You need to design the layout of the game either in console (command prompt) or Graphical User Interface (GUI) so that human (one of the players) can play against the AI machine (GA). [ 3 Marks]\n",
    "\n",
    "### On execution of your code:\n",
    "- it asks the human to pick one of {X, O} as their preferred mark. \n",
    "- it lets the human player choose who would start the game.\n",
    "- After the game is over, it displays the result (who wins/loses or it ended in a draw)"
   ]
  },
  {
   "cell_type": "code",
   "execution_count": null,
   "metadata": {},
   "outputs": [],
   "source": []
  },
  {
   "cell_type": "code",
   "execution_count": 5,
   "metadata": {},
   "outputs": [
    {
     "name": "stderr",
     "output_type": "stream",
     "text": [
      "C:\\Users\\willk\\Anaconda3\\lib\\site-packages\\deap\\creator.py:141: RuntimeWarning: A class named 'FitnessMax' has already been created and it will be overwritten. Consider deleting previous creation of that class or rename it.\n",
      "  RuntimeWarning)\n",
      "C:\\Users\\willk\\Anaconda3\\lib\\site-packages\\deap\\creator.py:141: RuntimeWarning: A class named 'Individual' has already been created and it will be overwritten. Consider deleting previous creation of that class or rename it.\n",
      "  RuntimeWarning)\n"
     ]
    }
   ],
   "source": [
    "from deap import algorithms, base, creator, tools\n",
    "import matplotlib.pyplot as plt\n",
    "import matplotlib.colors as colors\n",
    "import matplotlib.cm as cmx\n",
    "\n",
    "import random, operator, time, itertools, math\n",
    "import numpy\n",
    "\n",
    "toolbox = base.Toolbox()\n",
    "    \n",
    "creator.create(\"FitnessMax\", base.Fitness, weights=(1.0,))\n",
    "creator.create(\"Individual\", list, fitness=creator.FitnessMax)\n",
    "    \n",
    "    ## Create Individuals from possible moves\n",
    "   # toolbox.register(\"indices\", game.possible_moves)\n",
    "\n",
    "def GA_TIC_TAC_AI(game):\n",
    "    toolbox = base.Toolbox()\n",
    "    \n",
    "    ## Create Individuals from possible moves\n",
    "   # toolbox.register(\"indices\", game.possible_moves)\n",
    "    \n",
    "    toolbox.register(\"indices\", numpy.random.permutation, game.possible_moves())\n",
    "    toolbox.register(\"individual\", tools.initIterate, creator.Individual,\n",
    "                 toolbox.indices)\n",
    "    toolbox.register(\"population\", tools.initRepeat, list, \n",
    "                 toolbox.individual)\n",
    "    \n",
    "    ## Use fitness function\n",
    "    hof = tools.HallOfFame(1)\n",
    "    toolbox.register(\"evaluate\",game.evaluation)\n",
    "    toolbox.register(\"mate\", tools.cxUniform,indpb=0.1)\n",
    "    toolbox.register(\"mutate\", tools.mutShuffleIndexes, indpb=0.05)\n",
    "    toolbox.register(\"select\", tools.selTournament, tournsize=3)\n",
    "    \n",
    "    fit_stats = tools.Statistics(key=operator.attrgetter(\"fitness.values\"))\n",
    "    fit_stats.register('mean', numpy.mean)\n",
    "    fit_stats.register('max', numpy.max)\n",
    "    \n",
    "    pop = toolbox.population(n=150)\n",
    "    \n",
    "    pop, log = algorithms.eaSimple(pop, toolbox,\n",
    "                                  cxpb=0.0, mutpb=0.3,\n",
    "                                  ngen=250, verbose=True,halloffame=hof, \n",
    "                                      stats=fit_stats)\n",
    "    \n",
    "    plt.figure(figsize=(11, 4))\n",
    "    plots = plt.plot(log.select('max'),'c-', log.select('mean'), 'b-')\n",
    "    plt.legend(plots, ('Maximum fitness', 'Mean fitness'), frameon=True)\n",
    "    plt.ylabel('Fitness'); plt.xlabel('Iterations');\n",
    "    best = max(pop, key=attrgetter(\"fitness\"))\n",
    "    print(best, best.fitness)\n",
    "    return best[0]\n",
    "    "
   ]
  },
  {
   "cell_type": "code",
   "execution_count": null,
   "metadata": {},
   "outputs": [
    {
     "name": "stdout",
     "output_type": "stream",
     "text": [
      "Do you want to be X or O?\n",
      "O\n",
      "\n",
      ". . .\n",
      ". . .\n",
      ". . .\n",
      "\n",
      ". . .\n",
      ". . .\n",
      ". . .\n",
      "\n",
      ". . .\n",
      ". . .\n",
      ". . .\n",
      "\n",
      "Player 1 what do you play ? 14\n",
      "\n",
      "Move #1: player 1 plays 14 :\n",
      "\n",
      ". . .\n",
      ". . .\n",
      ". . .\n",
      "\n",
      ". . .\n",
      ". O .\n",
      ". . .\n",
      "\n",
      ". . .\n",
      ". . .\n",
      ". . .\n",
      "gen\tnevals\tmean   \tmax\n",
      "0  \t150   \t95.0667\t170\n",
      "1  \t53    \t117.767\t170\n",
      "2  \t36    \t136.033\t170\n",
      "3  \t47    \t148.1  \t170\n",
      "4  \t51    \t159.067\t175\n",
      "5  \t54    \t162.6  \t175\n",
      "6  \t42    \t167.8  \t175\n",
      "7  \t51    \t167.533\t180\n",
      "8  \t54    \t169.333\t180\n",
      "9  \t57    \t170.333\t180\n",
      "10 \t41    \t172.233\t180\n",
      "11 \t41    \t172.933\t180\n",
      "12 \t46    \t174.9  \t180\n",
      "13 \t49    \t175.367\t185\n",
      "14 \t41    \t173.533\t185\n",
      "15 \t42    \t175.6  \t185\n",
      "16 \t38    \t178.267\t185\n",
      "17 \t53    \t176.767\t185\n",
      "18 \t43    \t177.933\t185\n",
      "19 \t46    \t176.267\t185\n",
      "20 \t41    \t178.767\t185\n",
      "21 \t43    \t179.667\t185\n",
      "22 \t33    \t180.4  \t185\n",
      "23 \t45    \t179.167\t185\n",
      "24 \t50    \t181.233\t185\n",
      "25 \t47    \t178    \t185\n",
      "26 \t39    \t180.8  \t185\n",
      "27 \t47    \t178.333\t185\n",
      "28 \t42    \t179.633\t185\n",
      "29 \t41    \t180.867\t185\n",
      "30 \t57    \t176.233\t185\n",
      "31 \t54    \t178.033\t185\n",
      "32 \t47    \t179.367\t185\n",
      "33 \t55    \t177.3  \t185\n",
      "34 \t43    \t179.933\t185\n",
      "35 \t44    \t176.467\t185\n",
      "36 \t39    \t181.167\t185\n",
      "37 \t43    \t180.4  \t185\n",
      "38 \t49    \t178.367\t185\n",
      "39 \t46    \t178.1  \t185\n",
      "40 \t45    \t179.4  \t185\n",
      "41 \t51    \t177.633\t185\n",
      "42 \t58    \t179.033\t185\n",
      "43 \t37    \t180.933\t185\n",
      "44 \t44    \t181.9  \t185\n",
      "45 \t46    \t180    \t185\n",
      "46 \t56    \t178.367\t185\n",
      "47 \t51    \t176.467\t185\n",
      "48 \t51    \t176.867\t185\n",
      "49 \t42    \t180.1  \t185\n",
      "50 \t48    \t179.567\t185\n",
      "51 \t39    \t179.433\t185\n",
      "52 \t39    \t177.2  \t185\n",
      "53 \t38    \t180.133\t185\n",
      "54 \t36    \t179.867\t185\n",
      "55 \t49    \t179.433\t185\n",
      "56 \t45    \t178.167\t185\n",
      "57 \t41    \t177.467\t185\n",
      "58 \t54    \t178.9  \t185\n",
      "59 \t46    \t179.133\t185\n",
      "60 \t43    \t179.233\t185\n",
      "61 \t45    \t179.133\t185\n",
      "62 \t48    \t178.867\t185\n",
      "63 \t44    \t177.7  \t185\n",
      "64 \t51    \t180.567\t185\n",
      "65 \t56    \t175.433\t185\n",
      "66 \t45    \t176.733\t185\n",
      "67 \t44    \t180.233\t185\n",
      "68 \t32    \t179.533\t185\n",
      "69 \t52    \t178.1  \t185\n",
      "70 \t44    \t178.133\t185\n",
      "71 \t47    \t180.533\t185\n",
      "72 \t40    \t180.567\t185\n",
      "73 \t49    \t181.733\t185\n",
      "74 \t52    \t177.5  \t185\n",
      "75 \t37    \t177.333\t185\n",
      "76 \t48    \t177.933\t185\n",
      "77 \t52    \t178.567\t185\n",
      "78 \t54    \t178.3  \t185\n",
      "79 \t43    \t179.567\t185\n",
      "80 \t50    \t177.467\t185\n",
      "81 \t44    \t179.467\t185\n",
      "82 \t53    \t181.233\t185\n",
      "83 \t46    \t178.433\t185\n",
      "84 \t47    \t179.733\t185\n",
      "85 \t48    \t175.167\t185\n",
      "86 \t45    \t180.9  \t185\n",
      "87 \t37    \t178.967\t185\n",
      "88 \t43    \t181.267\t185\n",
      "89 \t48    \t176.233\t185\n",
      "90 \t49    \t179.5  \t185\n",
      "91 \t43    \t179.3  \t185\n",
      "92 \t46    \t176.667\t185\n",
      "93 \t39    \t177.4  \t185\n",
      "94 \t51    \t179.967\t185\n",
      "95 \t37    \t179.733\t185\n",
      "96 \t52    \t177.867\t185\n",
      "97 \t54    \t179.4  \t185\n",
      "98 \t52    \t176.7  \t185\n",
      "99 \t44    \t178.2  \t185\n",
      "100\t43    \t179.233\t185\n",
      "101\t55    \t176.233\t185\n",
      "102\t36    \t181.033\t185\n",
      "103\t49    \t177.767\t185\n",
      "104\t51    \t178.967\t185\n",
      "105\t49    \t179.933\t185\n",
      "106\t48    \t178.133\t185\n",
      "107\t59    \t174.433\t185\n",
      "108\t51    \t175.933\t185\n",
      "109\t48    \t178.133\t185\n",
      "110\t39    \t180.133\t185\n",
      "111\t54    \t179.233\t185\n",
      "112\t43    \t179.067\t185\n",
      "113\t43    \t179.033\t185\n",
      "114\t43    \t180.367\t185\n",
      "115\t43    \t176.2  \t185\n",
      "116\t44    \t178.5  \t185\n",
      "117\t41    \t179.3  \t185\n",
      "118\t39    \t177.9  \t185\n",
      "119\t34    \t181.7  \t185\n",
      "120\t44    \t182.533\t185\n",
      "121\t30    \t181.267\t185\n",
      "122\t47    \t178.767\t185\n",
      "123\t45    \t179.033\t185\n",
      "124\t43    \t179.3  \t185\n",
      "125\t45    \t180.167\t185\n",
      "126\t56    \t177.867\t185\n",
      "127\t51    \t178.133\t185\n",
      "128\t42    \t180.133\t185\n",
      "129\t38    \t179.433\t185\n",
      "130\t38    \t179.333\t185\n",
      "131\t47    \t176.267\t185\n",
      "132\t52    \t178.733\t185\n",
      "133\t50    \t179.4  \t185\n",
      "134\t42    \t174.7  \t185\n",
      "135\t46    \t179.967\t185\n",
      "136\t48    \t178.833\t185\n",
      "137\t52    \t173.767\t185\n",
      "138\t35    \t179.767\t185\n",
      "139\t51    \t177.433\t185\n",
      "140\t45    \t179.2  \t185\n",
      "141\t40    \t177.433\t185\n",
      "142\t37    \t180.333\t185\n",
      "143\t49    \t177.733\t185\n",
      "144\t44    \t178.8  \t185\n",
      "145\t38    \t180.233\t185\n",
      "146\t48    \t178.767\t185\n",
      "147\t44    \t177.033\t185\n",
      "148\t51    \t178.6  \t185\n",
      "149\t44    \t175.967\t185\n",
      "150\t38    \t179.233\t185\n",
      "151\t41    \t178.9  \t185\n",
      "152\t43    \t180.233\t185\n",
      "153\t51    \t178.367\t185\n",
      "154\t39    \t180.1  \t185\n",
      "155\t48    \t179.967\t185\n",
      "156\t52    \t179.933\t185\n",
      "157\t37    \t181.767\t185\n",
      "158\t44    \t179.933\t185\n",
      "159\t45    \t180.6  \t185\n",
      "160\t47    \t177.867\t185\n",
      "161\t41    \t181    \t185\n",
      "162\t42    \t179.5  \t185\n",
      "163\t44    \t179.3  \t185\n",
      "164\t38    \t178.367\t185\n",
      "165\t53    \t177.667\t185\n",
      "166\t43    \t179.667\t185\n",
      "167\t46    \t180.733\t185\n",
      "168\t37    \t180    \t185\n",
      "169\t49    \t180.233\t185\n",
      "170\t46    \t180.933\t185\n",
      "171\t38    \t179.767\t185\n",
      "172\t47    \t177.967\t185\n",
      "173\t49    \t179.767\t185\n",
      "174\t50    \t177.467\t185\n",
      "175\t40    \t179.4  \t185\n",
      "176\t48    \t179.333\t185\n",
      "177\t40    \t182.433\t185\n",
      "178\t53    \t178.833\t185\n",
      "179\t52    \t178.333\t185\n",
      "180\t45    \t179.7  \t185\n",
      "181\t43    \t181.2  \t185\n",
      "182\t41    \t178.6  \t185\n",
      "183\t38    \t177.167\t185\n",
      "184\t48    \t178.833\t185\n",
      "185\t42    \t179.367\t185\n",
      "186\t43    \t179.6  \t185\n",
      "187\t35    \t180.7  \t185\n",
      "188\t34    \t180.567\t185\n",
      "189\t44    \t179.5  \t185\n",
      "190\t46    \t178.867\t185\n",
      "191\t46    \t175.867\t185\n",
      "192\t46    \t178.8  \t185\n",
      "193\t37    \t181.1  \t185\n",
      "194\t35    \t179.233\t185\n",
      "195\t42    \t178.633\t185\n",
      "196\t55    \t179.267\t185\n",
      "197\t42    \t178.7  \t185\n",
      "198\t51    \t177.933\t185\n",
      "199\t42    \t180.033\t185\n",
      "200\t46    \t178.133\t185\n",
      "201\t46    \t180.633\t185\n",
      "202\t51    \t178.633\t185\n",
      "203\t49    \t178.133\t185\n",
      "204\t40    \t180.967\t185\n",
      "205\t42    \t178.3  \t185\n",
      "206\t51    \t177.4  \t185\n",
      "207\t47    \t178.367\t185\n",
      "208\t48    \t181.4  \t185\n",
      "209\t44    \t179.033\t185\n",
      "210\t44    \t177.033\t185\n",
      "211\t41    \t177.3  \t185\n",
      "212\t54    \t178.2  \t185\n",
      "213\t51    \t177.4  \t185\n",
      "214\t36    \t181.3  \t185\n",
      "215\t49    \t175.567\t185\n",
      "216\t45    \t178.6  \t185\n",
      "217\t47    \t177.7  \t185\n",
      "218\t45    \t181.3  \t185\n",
      "219\t51    \t176.2  \t185\n",
      "220\t47    \t179.533\t185\n",
      "221\t50    \t179.667\t185\n",
      "222\t50    \t178.667\t185\n",
      "223\t48    \t180.467\t185\n",
      "224\t44    \t179.8  \t185\n",
      "225\t52    \t177.233\t185\n",
      "226\t49    \t179.233\t185\n",
      "227\t47    \t176.667\t185\n",
      "228\t41    \t179.133\t185\n",
      "229\t50    \t179.767\t185\n",
      "230\t40    \t179.567\t185\n",
      "231\t48    \t176.3  \t185\n",
      "232\t47    \t180    \t185\n",
      "233\t43    \t178    \t185\n",
      "234\t52    \t178.467\t185\n",
      "235\t57    \t176.633\t185\n",
      "236\t46    \t179.2  \t185\n",
      "237\t33    \t180.133\t185\n",
      "238\t38    \t178.933\t185\n",
      "239\t43    \t179.467\t185\n",
      "240\t43    \t179.2  \t185\n",
      "241\t49    \t179.767\t185\n",
      "242\t63    \t176.267\t185\n",
      "243\t53    \t179.5  \t185\n",
      "244\t56    \t177.1  \t185\n",
      "245\t45    \t179.233\t185\n",
      "246\t53    \t177.433\t185\n",
      "247\t39    \t178.967\t185\n",
      "248\t46    \t179.633\t185\n",
      "249\t46    \t176.433\t185\n",
      "250\t42    \t178.733\t185\n",
      "[25, 9, 3, 16, 10, 13, 27, 17, 5, 11, 6, 12, 22, 1, 7, 24, 20, 2, 18, 15, 23, 19, 8, 26, 21, 4] (185.0,)\n",
      "\n",
      "Move #2: player 2 plays 25 :\n",
      "\n",
      ". . .\n",
      ". . .\n",
      ". . .\n",
      "\n",
      ". . .\n",
      ". O .\n",
      ". . .\n",
      "\n",
      ". . .\n",
      ". . .\n",
      "X . .\n",
      "\n",
      "Player 1 what do you play ? 5\n",
      "\n",
      "Move #3: player 1 plays 5 :\n",
      "\n",
      ". . .\n",
      ". O .\n",
      ". . .\n",
      "\n",
      ". . .\n",
      ". O .\n",
      ". . .\n",
      "\n",
      ". . .\n",
      ". . .\n",
      "X . .\n",
      "gen\tnevals\tmean   \tmax\n",
      "0  \t150   \t102.133\t205\n",
      "1  \t30    \t129.8  \t205\n",
      "2  \t55    \t154.167\t205\n",
      "3  \t43    \t172.9  \t205\n",
      "4  \t58    \t191.9  \t205\n",
      "5  \t47    \t201.8  \t205\n",
      "6  \t47    \t202.633\t205\n",
      "7  \t40    \t202.367\t205\n",
      "8  \t47    \t203.1  \t205\n",
      "9  \t46    \t203.733\t205\n",
      "10 \t45    \t200.833\t205\n",
      "11 \t44    \t203.3  \t205\n",
      "12 \t36    \t199.667\t205\n",
      "13 \t46    \t203.2  \t205\n",
      "14 \t37    \t202.967\t205\n",
      "15 \t47    \t204.033\t205\n",
      "16 \t44    \t201.133\t205\n",
      "17 \t50    \t201.533\t205\n",
      "18 \t34    \t199.4  \t205\n",
      "19 \t49    \t201.233\t205\n",
      "20 \t38    \t199.333\t205\n",
      "21 \t48    \t198.267\t205\n",
      "22 \t46    \t203.233\t205\n",
      "23 \t39    \t201.467\t205\n",
      "24 \t41    \t199.8  \t205\n",
      "25 \t53    \t203.3  \t205\n",
      "26 \t33    \t200.533\t205\n",
      "27 \t45    \t202.833\t205\n",
      "28 \t42    \t198.533\t205\n",
      "29 \t41    \t200.767\t205\n",
      "30 \t51    \t200.967\t205\n",
      "31 \t55    \t198.5  \t205\n",
      "32 \t36    \t204.467\t205\n",
      "33 \t39    \t203.3  \t205\n",
      "34 \t52    \t200.733\t205\n",
      "35 \t51    \t200.633\t205\n",
      "36 \t32    \t203.633\t205\n",
      "37 \t44    \t205    \t205\n",
      "38 \t49    \t203.267\t205\n",
      "39 \t51    \t201.533\t205\n",
      "40 \t45    \t203.467\t205\n",
      "41 \t46    \t200.267\t205\n",
      "42 \t44    \t199.767\t205\n",
      "43 \t44    \t200.1  \t205\n",
      "44 \t44    \t198    \t205\n",
      "45 \t46    \t201.667\t205\n",
      "46 \t42    \t201.233\t205\n",
      "47 \t38    \t201.733\t205\n",
      "48 \t43    \t201.767\t205\n",
      "49 \t44    \t200.233\t205\n",
      "50 \t40    \t201.933\t205\n",
      "51 \t54    \t202.8  \t205\n",
      "52 \t45    \t200.3  \t205\n",
      "53 \t49    \t199.233\t205\n",
      "54 \t38    \t202.067\t205\n",
      "55 \t40    \t200.867\t205\n",
      "56 \t43    \t201.7  \t205\n",
      "57 \t45    \t201.3  \t205\n",
      "58 \t47    \t202.967\t205\n",
      "59 \t46    \t201.467\t205\n",
      "60 \t36    \t203.3  \t205\n",
      "61 \t44    \t201.567\t205\n",
      "62 \t37    \t201.933\t205\n",
      "63 \t54    \t200.533\t205\n",
      "64 \t31    \t200.933\t205\n",
      "65 \t45    \t202.767\t205\n",
      "66 \t39    \t200.267\t205\n",
      "67 \t40    \t204.267\t205\n",
      "68 \t36    \t203.9  \t205\n",
      "69 \t48    \t201.667\t205\n",
      "70 \t44    \t200.4  \t205\n",
      "71 \t40    \t204.367\t205\n",
      "72 \t46    \t203.4  \t205\n",
      "73 \t53    \t200.7  \t205\n",
      "74 \t42    \t201.2  \t205\n",
      "75 \t53    \t200.867\t205\n",
      "76 \t51    \t196.267\t205\n",
      "77 \t40    \t200.167\t205\n",
      "78 \t42    \t201.767\t205\n",
      "79 \t43    \t200.5  \t205\n",
      "80 \t46    \t202.3  \t205\n",
      "81 \t46    \t202.3  \t205\n",
      "82 \t57    \t201.767\t205\n",
      "83 \t52    \t203.167\t205\n"
     ]
    },
    {
     "name": "stdout",
     "output_type": "stream",
     "text": [
      "84 \t51    \t201.233\t205\n",
      "85 \t48    \t203.333\t205\n",
      "86 \t48    \t202.467\t205\n",
      "87 \t40    \t201.733\t205\n",
      "88 \t49    \t201.767\t205\n",
      "89 \t41    \t202.7  \t205\n",
      "90 \t33    \t202.333\t205\n",
      "91 \t44    \t201.433\t205\n",
      "92 \t46    \t201.067\t205\n",
      "93 \t48    \t202.267\t205\n",
      "94 \t50    \t203.8  \t205\n",
      "95 \t45    \t201.033\t205\n",
      "96 \t44    \t203    \t205\n",
      "97 \t51    \t202.467\t205\n",
      "98 \t48    \t202.667\t205\n",
      "99 \t47    \t202.533\t205\n",
      "100\t40    \t202.333\t205\n",
      "101\t45    \t201.233\t205\n",
      "102\t48    \t201.133\t205\n",
      "103\t45    \t201.333\t205\n",
      "104\t51    \t201.133\t205\n",
      "105\t51    \t202.033\t205\n",
      "106\t45    \t202.333\t205\n",
      "107\t40    \t203.3  \t205\n",
      "108\t44    \t202.8  \t205\n",
      "109\t41    \t203.567\t205\n",
      "110\t48    \t200.167\t205\n",
      "111\t36    \t202.067\t205\n",
      "112\t48    \t203.567\t205\n",
      "113\t49    \t201.6  \t205\n",
      "114\t46    \t203.367\t205\n",
      "115\t42    \t200.5  \t205\n",
      "116\t37    \t199.333\t205\n",
      "117\t40    \t202.433\t205\n",
      "118\t40    \t203.533\t205\n",
      "119\t46    \t202.267\t205\n",
      "120\t47    \t201.667\t205\n",
      "121\t47    \t198.933\t205\n",
      "122\t46    \t203    \t205\n",
      "123\t49    \t202.033\t205\n",
      "124\t35    \t202.333\t205\n",
      "125\t32    \t202.2  \t205\n",
      "126\t45    \t202.9  \t205\n",
      "127\t39    \t203.033\t205\n",
      "128\t36    \t202.5  \t205\n",
      "129\t43    \t202.633\t205\n",
      "130\t48    \t202.267\t205\n",
      "131\t38    \t203.867\t205\n",
      "132\t39    \t203.3  \t205\n",
      "133\t37    \t201.8  \t205\n",
      "134\t49    \t199.733\t205\n",
      "135\t34    \t204.267\t205\n",
      "136\t34    \t200.367\t205\n",
      "137\t41    \t201.4  \t205\n",
      "138\t42    \t202.133\t205\n",
      "139\t50    \t201.533\t205\n",
      "140\t52    \t202.767\t205\n",
      "141\t35    \t204    \t205\n",
      "142\t45    \t203.1  \t205\n",
      "143\t30    \t202.133\t205\n",
      "144\t47    \t202.4  \t205\n",
      "145\t36    \t205    \t205\n",
      "146\t49    \t202    \t205\n",
      "147\t50    \t202    \t205\n",
      "148\t46    \t202.033\t205\n",
      "149\t54    \t203.433\t205\n",
      "150\t41    \t203.5  \t205\n",
      "151\t46    \t200.033\t205\n",
      "152\t55    \t199.833\t205\n",
      "153\t53    \t198.933\t205\n",
      "154\t30    \t201.533\t205\n",
      "155\t45    \t200.367\t205\n",
      "156\t39    \t202.633\t205\n",
      "157\t54    \t201.4  \t205\n",
      "158\t50    \t204.5  \t205\n",
      "159\t40    \t202.367\t205\n",
      "160\t46    \t200.6  \t205\n",
      "161\t52    \t200.3  \t205\n",
      "162\t48    \t203.933\t205\n",
      "163\t52    \t202.6  \t205\n",
      "164\t47    \t201.633\t205\n",
      "165\t54    \t201.9  \t205\n",
      "166\t45    \t202.7  \t205\n",
      "167\t52    \t198.6  \t205\n",
      "168\t44    \t199.667\t205\n",
      "169\t45    \t202.867\t205\n",
      "170\t45    \t202.767\t205\n",
      "171\t48    \t200.2  \t205\n",
      "172\t44    \t203.8  \t205\n",
      "173\t53    \t200.033\t205\n",
      "174\t51    \t202.8  \t205\n",
      "175\t50    \t202.267\t205\n",
      "176\t35    \t201.567\t205\n",
      "177\t43    \t202.733\t205\n",
      "178\t46    \t203.6  \t205\n",
      "179\t43    \t201.233\t205\n",
      "180\t44    \t201    \t205\n",
      "181\t45    \t201.233\t205\n",
      "182\t44    \t200.3  \t205\n",
      "183\t37    \t201.867\t205\n",
      "184\t37    \t200.633\t205\n",
      "185\t43    \t203.367\t205\n",
      "186\t54    \t204    \t205\n",
      "187\t46    \t200.067\t205\n",
      "188\t54    \t199.133\t205\n",
      "189\t37    \t202.467\t205\n",
      "190\t44    \t202    \t205\n",
      "191\t47    \t203.867\t205\n",
      "192\t46    \t202.2  \t205\n",
      "193\t47    \t202.7  \t205\n",
      "194\t46    \t202.533\t205\n",
      "195\t43    \t200.367\t205\n",
      "196\t53    \t201.8  \t205\n",
      "197\t49    \t202.333\t205\n",
      "198\t44    \t202.867\t205\n",
      "199\t46    \t202.667\t205\n",
      "200\t47    \t203.3  \t205\n",
      "201\t51    \t204.1  \t205\n",
      "202\t48    \t200.767\t205\n",
      "203\t40    \t201    \t205\n",
      "204\t44    \t202.067\t205\n",
      "205\t40    \t201.5  \t205\n",
      "206\t41    \t201.867\t205\n",
      "207\t34    \t205    \t205\n",
      "208\t38    \t204.467\t205\n",
      "209\t44    \t202.8  \t205\n",
      "210\t52    \t204.333\t205\n",
      "211\t34    \t199.767\t205\n",
      "212\t41    \t203.667\t205\n",
      "213\t51    \t203    \t205\n",
      "214\t45    \t199.633\t205\n",
      "215\t42    \t199.833\t205\n",
      "216\t43    \t199.033\t205\n",
      "217\t48    \t202.1  \t205\n",
      "218\t42    \t202.1  \t205\n",
      "219\t41    \t202.333\t205\n",
      "220\t54    \t201.033\t205\n",
      "221\t52    \t202.567\t205\n",
      "222\t50    \t202.6  \t205\n",
      "223\t43    \t203.967\t205\n",
      "224\t47    \t201.367\t205\n",
      "225\t44    \t201.433\t205\n",
      "226\t43    \t202.3  \t205\n",
      "227\t52    \t200.133\t205\n",
      "228\t47    \t202.4  \t205\n",
      "229\t47    \t202.667\t205\n",
      "230\t43    \t201.267\t205\n",
      "231\t45    \t200.567\t205\n",
      "232\t42    \t202.767\t205\n",
      "233\t37    \t202.4  \t205\n",
      "234\t38    \t204.4  \t205\n",
      "235\t48    \t202.9  \t205\n",
      "236\t48    \t200.867\t205\n",
      "237\t49    \t202.3  \t205\n",
      "238\t45    \t202.033\t205\n",
      "239\t52    \t200.2  \t205\n",
      "240\t47    \t202.267\t205\n",
      "241\t50    \t199.733\t205\n",
      "242\t48    \t201.3  \t205\n",
      "243\t50    \t199.733\t205\n",
      "244\t50    \t203.267\t205\n",
      "245\t32    \t204    \t205\n",
      "246\t47    \t199.833\t205\n",
      "247\t46    \t202.633\t205\n",
      "248\t42    \t203.533\t205\n",
      "249\t52    \t201.9  \t205\n",
      "250\t45    \t201.2  \t205\n",
      "[23, 2, 6, 18, 1, 10, 11, 8, 7, 22, 4, 24, 9, 13, 12, 15, 20, 17, 21, 16, 3, 19, 27, 26] (205.0,)\n",
      "\n",
      "Move #4: player 2 plays 23 :\n",
      "\n",
      ". . .\n",
      ". O .\n",
      ". . .\n",
      "\n",
      ". . .\n",
      ". O .\n",
      ". . .\n",
      "\n",
      ". . .\n",
      ". X .\n",
      "X . .\n",
      "\n",
      "Player 1 what do you play ? 1\n",
      "\n",
      "Move #5: player 1 plays 1 :\n",
      "\n",
      "O . .\n",
      ". O .\n",
      ". . .\n",
      "\n",
      ". . .\n",
      ". O .\n",
      ". . .\n",
      "\n",
      ". . .\n",
      ". X .\n",
      "X . .\n",
      "gen\tnevals\tmean   \tmax\n",
      "0  \t150   \t95.5333\t205\n",
      "1  \t40    \t130.267\t205\n",
      "2  \t46    \t165.233\t205\n",
      "3  \t46    \t194.433\t205\n",
      "4  \t44    \t202.2  \t205\n",
      "5  \t51    \t197.533\t205\n",
      "6  \t44    \t205    \t205\n",
      "7  \t42    \t201.867\t205\n",
      "8  \t45    \t202.633\t205\n",
      "9  \t41    \t198.367\t205\n",
      "10 \t36    \t201.567\t205\n",
      "11 \t44    \t202.633\t205\n",
      "12 \t35    \t204.067\t205\n",
      "13 \t46    \t204.267\t205\n",
      "14 \t47    \t200.9  \t205\n",
      "15 \t42    \t201.433\t205\n",
      "16 \t39    \t205    \t205\n",
      "17 \t35    \t200.633\t205\n",
      "18 \t62    \t200.6  \t205\n",
      "19 \t40    \t201.233\t205\n",
      "20 \t44    \t201.7  \t205\n",
      "21 \t52    \t205    \t205\n",
      "22 \t45    \t201.533\t205\n",
      "23 \t43    \t200.2  \t205\n",
      "24 \t39    \t200.7  \t205\n",
      "25 \t34    \t202.033\t205\n",
      "26 \t39    \t195.433\t205\n",
      "27 \t45    \t202.267\t205\n",
      "28 \t37    \t202.367\t205\n",
      "29 \t45    \t203.167\t205\n",
      "30 \t44    \t202.7  \t205\n",
      "31 \t39    \t200.833\t205\n",
      "32 \t47    \t201.2  \t205\n",
      "33 \t47    \t201.833\t205\n",
      "34 \t40    \t203.3  \t205\n",
      "35 \t41    \t201.367\t205\n",
      "36 \t44    \t199.3  \t205\n",
      "37 \t57    \t199.833\t205\n",
      "38 \t48    \t201    \t205\n",
      "39 \t48    \t203.167\t205\n",
      "40 \t37    \t201.4  \t205\n",
      "41 \t43    \t201.333\t205\n",
      "42 \t37    \t199.767\t205\n",
      "43 \t34    \t199.867\t205\n",
      "44 \t36    \t201.367\t205\n",
      "45 \t40    \t201.1  \t205\n",
      "46 \t40    \t200.833\t205\n",
      "47 \t37    \t204.233\t205\n",
      "48 \t36    \t201.533\t205\n",
      "49 \t45    \t204.2  \t205\n",
      "50 \t44    \t201    \t205\n",
      "51 \t43    \t201.867\t205\n",
      "52 \t48    \t199.333\t205\n",
      "53 \t48    \t202.833\t205\n",
      "54 \t47    \t201.933\t205\n",
      "55 \t42    \t200.367\t205\n",
      "56 \t46    \t202.633\t205\n",
      "57 \t44    \t203    \t205\n",
      "58 \t38    \t201.433\t205\n",
      "59 \t35    \t201.733\t205\n",
      "60 \t55    \t204.1  \t205\n",
      "61 \t43    \t201.3  \t205\n",
      "62 \t54    \t201.633\t205\n",
      "63 \t40    \t200.767\t205\n",
      "64 \t43    \t200.7  \t205\n",
      "65 \t47    \t200.433\t205\n",
      "66 \t44    \t197.867\t205\n",
      "67 \t50    \t201.267\t205\n",
      "68 \t47    \t205    \t205\n",
      "69 \t46    \t199.9  \t205\n",
      "70 \t38    \t202.367\t205\n",
      "71 \t50    \t204.5  \t205\n",
      "72 \t44    \t199.767\t205\n",
      "73 \t49    \t202.733\t205\n",
      "74 \t35    \t200.067\t205\n",
      "75 \t46    \t202.067\t205\n",
      "76 \t44    \t203.1  \t205\n",
      "77 \t54    \t200.3  \t205\n",
      "78 \t39    \t204.2  \t205\n",
      "79 \t41    \t202.467\t205\n",
      "80 \t47    \t201.933\t205\n",
      "81 \t43    \t200.7  \t205\n",
      "82 \t46    \t202.833\t205\n",
      "83 \t44    \t203.6  \t205\n",
      "84 \t41    \t202.1  \t205\n",
      "85 \t37    \t201.033\t205\n",
      "86 \t42    \t200.067\t205\n",
      "87 \t47    \t201.4  \t205\n",
      "88 \t44    \t201.9  \t205\n",
      "89 \t40    \t200.6  \t205\n",
      "90 \t51    \t201.2  \t205\n",
      "91 \t44    \t201.433\t205\n",
      "92 \t41    \t201.3  \t205\n",
      "93 \t50    \t204.367\t205\n",
      "94 \t38    \t204.367\t205\n",
      "95 \t41    \t201.767\t205\n",
      "96 \t60    \t200.6  \t205\n",
      "97 \t46    \t203.333\t205\n",
      "98 \t43    \t200.467\t205\n",
      "99 \t47    \t200.533\t205\n",
      "100\t40    \t202.833\t205\n",
      "101\t44    \t199.433\t205\n",
      "102\t42    \t203.333\t205\n",
      "103\t40    \t201.233\t205\n",
      "104\t43    \t202.5  \t205\n",
      "105\t43    \t202.3  \t205\n",
      "106\t42    \t201.167\t205\n",
      "107\t48    \t201.1  \t205\n",
      "108\t41    \t202.533\t205\n",
      "109\t43    \t199.6  \t205\n",
      "110\t54    \t199.933\t205\n",
      "111\t50    \t198.067\t205\n",
      "112\t39    \t202    \t205\n",
      "113\t49    \t199.433\t205\n",
      "114\t41    \t203.133\t205\n",
      "115\t43    \t202.067\t205\n",
      "116\t48    \t205    \t205\n",
      "117\t44    \t200.433\t205\n",
      "118\t43    \t201.6  \t205\n",
      "119\t49    \t201.533\t205\n",
      "120\t49    \t202.933\t205\n",
      "121\t54    \t199.667\t205\n",
      "122\t40    \t202.833\t205\n",
      "123\t45    \t202.733\t205\n",
      "124\t59    \t197.933\t205\n",
      "125\t49    \t203    \t205\n",
      "126\t38    \t201.4  \t205\n",
      "127\t50    \t202.133\t205\n",
      "128\t42    \t200.767\t205\n",
      "129\t50    \t200.267\t205\n",
      "130\t38    \t202.9  \t205\n",
      "131\t43    \t200.367\t205\n",
      "132\t42    \t204.333\t205\n",
      "133\t44    \t202.367\t205\n",
      "134\t49    \t203.567\t205\n",
      "135\t41    \t198.4  \t205\n",
      "136\t38    \t203.1  \t205\n",
      "137\t33    \t202.167\t205\n",
      "138\t44    \t203.467\t205\n",
      "139\t41    \t202.6  \t205\n",
      "140\t40    \t200.967\t205\n",
      "141\t53    \t203.533\t205\n",
      "142\t39    \t202.933\t205\n",
      "143\t45    \t201.2  \t205\n",
      "144\t34    \t203.367\t205\n",
      "145\t41    \t204.333\t205\n",
      "146\t40    \t201.833\t205\n",
      "147\t46    \t201.033\t205\n",
      "148\t43    \t200.367\t205\n",
      "149\t40    \t200.067\t205\n",
      "150\t52    \t201.867\t205\n",
      "151\t38    \t202.033\t205\n",
      "152\t46    \t199.8  \t205\n",
      "153\t40    \t203.633\t205\n",
      "154\t37    \t202.2  \t205\n",
      "155\t51    \t203.167\t205\n",
      "156\t43    \t201.633\t205\n",
      "157\t49    \t201.767\t205\n",
      "158\t44    \t202.3  \t205\n",
      "159\t48    \t200.867\t205\n",
      "160\t48    \t202.967\t205\n",
      "161\t45    \t201.6  \t205\n",
      "162\t41    \t200.7  \t205\n",
      "163\t44    \t201.567\t205\n",
      "164\t48    \t201.4  \t205\n",
      "165\t47    \t198.767\t205\n",
      "166\t43    \t198.867\t205\n",
      "167\t42    \t201.3  \t205\n",
      "168\t42    \t202.467\t205\n",
      "169\t50    \t200.567\t205\n",
      "170\t36    \t202.267\t205\n",
      "171\t42    \t203.3  \t205\n",
      "172\t39    \t203.1  \t205\n",
      "173\t43    \t203.4  \t205\n",
      "174\t38    \t202.533\t205\n",
      "175\t41    \t202.133\t205\n"
     ]
    },
    {
     "name": "stdout",
     "output_type": "stream",
     "text": [
      "176\t51    \t201.4  \t205\n",
      "177\t45    \t200.167\t205\n",
      "178\t57    \t200.733\t205\n",
      "179\t47    \t202    \t205\n",
      "180\t44    \t200.533\t205\n",
      "181\t34    \t200.833\t205\n",
      "182\t58    \t200.4  \t205\n",
      "183\t46    \t202    \t205\n",
      "184\t44    \t201.3  \t205\n",
      "185\t42    \t201.033\t205\n",
      "186\t39    \t203.467\t205\n",
      "187\t45    \t203.433\t205\n",
      "188\t44    \t199.8  \t205\n",
      "189\t52    \t200.667\t205\n",
      "190\t54    \t201.233\t205\n",
      "191\t49    \t201.1  \t205\n",
      "192\t42    \t199.1  \t205\n",
      "193\t45    \t196.9  \t205\n",
      "194\t46    \t198.067\t205\n",
      "195\t40    \t199.933\t205\n",
      "196\t47    \t200.7  \t205\n",
      "197\t35    \t201.8  \t205\n",
      "198\t42    \t202.033\t205\n",
      "199\t49    \t200.2  \t205\n",
      "200\t42    \t203.8  \t205\n",
      "201\t50    \t202.6  \t205\n",
      "202\t45    \t199.167\t205\n",
      "203\t37    \t203    \t205\n",
      "204\t42    \t201.733\t205\n",
      "205\t50    \t201.467\t205\n",
      "206\t47    \t202.667\t205\n",
      "207\t48    \t202.633\t205\n",
      "208\t59    \t201.8  \t205\n",
      "209\t60    \t197.6  \t205\n",
      "210\t50    \t202.633\t205\n",
      "211\t39    \t199.667\t205\n",
      "212\t39    \t201.733\t205\n",
      "213\t37    \t201.567\t205\n",
      "214\t46    \t201.933\t205\n",
      "215\t46    \t204.567\t205\n",
      "216\t49    \t202.5  \t205\n",
      "217\t50    \t199.833\t205\n",
      "218\t44    \t201.733\t205\n",
      "219\t44    \t199.967\t205\n",
      "220\t38    \t203.3  \t205\n",
      "221\t37    \t201.833\t205\n",
      "222\t40    \t201.733\t205\n",
      "223\t49    \t202.967\t205\n",
      "224\t41    \t203.067\t205\n",
      "225\t54    \t200.3  \t205\n",
      "226\t40    \t203.767\t205\n",
      "227\t40    \t199.533\t205\n",
      "228\t36    \t203    \t205\n",
      "229\t49    \t203.533\t205\n",
      "230\t54    \t204.3  \t205\n",
      "231\t44    \t202.033\t205\n",
      "232\t48    \t202.4  \t205\n",
      "233\t48    \t202.533\t205\n",
      "234\t49    \t201.633\t205\n",
      "235\t43    \t201.067\t205\n",
      "236\t47    \t201.233\t205\n",
      "237\t47    \t198.5  \t205\n",
      "238\t41    \t201.233\t205\n",
      "239\t44    \t202.033\t205\n",
      "240\t52    \t202    \t205\n",
      "241\t47    \t201.233\t205\n",
      "242\t38    \t203.1  \t205\n",
      "243\t44    \t201.7  \t205\n",
      "244\t49    \t199.2  \t205\n",
      "245\t42    \t203.2  \t205\n",
      "246\t54    \t204.233\t205\n",
      "247\t31    \t202.3  \t205\n",
      "248\t50    \t202.267\t205\n",
      "249\t50    \t199.833\t205\n",
      "250\t34    \t203.1  \t205\n",
      "[27, 3, 4, 10, 22, 13, 7, 21, 11, 20, 15, 18, 16, 6, 17, 9, 19, 26, 12, 2, 24, 8] (205.0,)\n",
      "\n",
      "Move #6: player 2 plays 27 :\n",
      "\n",
      "O . .\n",
      ". O .\n",
      ". . .\n",
      "\n",
      ". . .\n",
      ". O .\n",
      ". . .\n",
      "\n",
      ". . .\n",
      ". X .\n",
      "X . X\n"
     ]
    }
   ],
   "source": [
    "## Put your complete code here.\n",
    "# This is a variant of the Tic Tac Toe recipe given in the easyAI library\n",
    "\n",
    "from easyAI import TwoPlayersGame, AI_Player, Negamax\n",
    "from easyAI.Player import Human_Player\n",
    "from operator import attrgetter\n",
    "\n",
    "class GameController(TwoPlayersGame):\n",
    "    def __init__(self, players):\n",
    "        # Define the players\n",
    "        self.players = players\n",
    "\n",
    "        self.nplayer = 1 \n",
    "\n",
    "        # Define the board\n",
    "        self.board = [0] * 27\n",
    "\n",
    "    \n",
    "    # Define possible moves\n",
    "    def possible_moves(self):\n",
    "        return [a + 1 for a, b in enumerate(self.board) if b == 0]\n",
    "    \n",
    "    # Make a move\n",
    "    def make_move(self, move):\n",
    "        self.board[int(move) - 1] = 1\n",
    "    \n",
    "    def makeLoss_Condition(self):\n",
    "        combos = [[1,2,3], [4,5,6], [7,8,9], [1,4,7], [2,5,8], [3,6,9], [1,5,9], [3,5,7]]\n",
    "        # 3D Diagonals\n",
    "        for i in range(1,4):\n",
    "            # 1-3, diagonal down\n",
    "            combos.append([i,i+12,i+24])\n",
    "            # 1,4,7 diagonal right\n",
    "            combos.append([(i-1)*3+1,(i-1)*3+10,i+20])\n",
    "            # 7-9 diagonal down\n",
    "            combos.append([(i+6),(i+6)+6,(i+6)+12])\n",
    "            # 3,6,9 diagonal left\n",
    "            combos.append([(i*3)+1,(i-1)*3+8,i+16])\n",
    "            \n",
    "        combos.append([1,14,27])\n",
    "        combos.append([3,14,25])\n",
    "        combos.append([9,14,19])\n",
    "        combos.append([7,14,21])\n",
    "        \n",
    "        # 3D Directly Z-down\n",
    "        for i in range(1,10):\n",
    "            combos.append([i,i+9,i+18])\n",
    "            \n",
    "        # For Middle and Bottom Layer\n",
    "        for i in range (1,3):\n",
    "            #10-12 down\n",
    "            for j in range(1,4):\n",
    "                combos.append([(i*9)+j,(i*9)+j+3,(i*9)+j+6])\n",
    "            #10,13,16 across\n",
    "            for j in range(1,4):\n",
    "                x = (i*9)+(j-1)*3\n",
    "                combos.append([x+1,x+2,x+3])\n",
    "                \n",
    "            #Middle and Bot layer diagonal\n",
    "            combos.append([(i*9)+1,(i*9)+5,(i*9)+9])\n",
    "            combos.append([(i*9)+7,(i*9)+5,(i*9)+3])\n",
    "            \n",
    "        return combos\n",
    "            \n",
    "\n",
    "    # Does the opponent have three in a line?\n",
    "    def loss_condition(self):\n",
    "        possible_combinations = self.makeLoss_Condition()\n",
    "\n",
    "        return any([all([(self.board[i-1] == self.nopponent)\n",
    "                for i in combination]) for combination in possible_combinations]) \n",
    "        \n",
    "    # Check if the game is over\n",
    "    def is_over(self):\n",
    "        if ((self.possible_moves() == [])):\n",
    "            print(\"It's a tie\")\n",
    "        \n",
    "        return (self.possible_moves() == []) or self.loss_condition()\n",
    "        \n",
    "    # Show current position\n",
    "    def show(self):\n",
    "        print('\\n'+'\\n'.join([' '\n",
    "                              .join([['.', 'O', 'X'][self.board[3*j + i]]\n",
    "                for i in range(3)])\n",
    "                              for j in range(3)]) + \n",
    "              '\\n' + '\\n' + '\\n'.join([' '\n",
    "                              .join([['.', 'O', 'X'][self.board[3*j + i+9]]\n",
    "                for i in range(3)]) \n",
    "                              for j in range(3)]) +\n",
    "        '\\n' + '\\n' + '\\n'.join([' '\n",
    "                              .join([['.', 'O', 'X'][self.board[3*j + i+18]]\n",
    "                for i in range(3)])\n",
    "                              for j in range(3)]))\n",
    "\n",
    "    def make_move1(self, move, board):\n",
    "        board[int(move) - 1] = self.nplayer\n",
    "        return board\n",
    "    \n",
    "    def make_move2(self, move, board):\n",
    "        board[int(move) - 1] = self.nopponent \n",
    "        return board\n",
    "    \n",
    "    def Testloss_condition2(self, board):\n",
    "        possible_combinations = self.makeLoss_Condition()\n",
    "\n",
    "        return any([all([(board[i-1] == self.nopponent)\n",
    "                for i in combination]) for combination in possible_combinations]) \n",
    "    \n",
    "    def Testloss_condition1(self, board):\n",
    "        possible_combinations = self.makeLoss_Condition()\n",
    "\n",
    "        return any([all([(board[i-1] == self.nplayer)\n",
    "                for i in combination]) for combination in possible_combinations]) \n",
    "        \n",
    "    def evaluation(self,individual):\n",
    "        i = 0\n",
    "        score = 5\n",
    "        fakeBoard = self.board.copy()\n",
    "        while (i < len(individual)-1 ): \n",
    "            fakeBoard = self.make_move2(individual[i], fakeBoard)\n",
    "            if (self.Testloss_condition2(fakeBoard) and i == 0):\n",
    "                score += 200\n",
    "                break\n",
    "            elif (self.Testloss_condition2(fakeBoard)):\n",
    "                score += 15\n",
    "            fakeBoard = self.make_move1(individual[i+1],fakeBoard)\n",
    "            if (self.Testloss_condition1(fakeBoard)):\n",
    "                score -= 5\n",
    "            i += 2\n",
    "        return (score,)\n",
    "\n",
    "    # Compute the score\n",
    "    def scoring(self):\n",
    "        return -100 if self.loss_condition() else 0\n",
    "\n",
    "\n",
    "if __name__ == \"__main__\":\n",
    "    # Define the algorithm\n",
    "    #algorithm = GA_TIC_TAC_AI\n",
    "    algo = GA_TIC_TAC_AI\n",
    "    # Start the game\n",
    "    letter = ''\n",
    "    while not (letter == 'X' or letter == 'O'):\n",
    "        print('Do you want to be X or O?')\n",
    "        letter = input().upper()\n",
    "    if (letter == 'O'):\n",
    "        GameController([Human_Player(),AI_Player(algo)]).play()\n",
    "    else:\n",
    "        GameController([AI_Player(algo),Human_Player()]).play()\n"
   ]
  },
  {
   "cell_type": "raw",
   "metadata": {},
   "source": [
    "\n",
    "The algorithm will block the opponent but will not steal the win itself interestingly"
   ]
  },
  {
   "cell_type": "markdown",
   "metadata": {},
   "source": [
    "## Your Submission method"
   ]
  },
  {
   "cell_type": "markdown",
   "metadata": {},
   "source": [
    "Your submission should consist of this jupyter notebook with all your code and explanations inserted in the notebook. The notebook should contain the output of the runs so that it can be read by the assessor without needing to run the output.\n",
    "\n",
    "You have already used Jupyter Notebook earlier in the unit. In case you need help, you may refer the following tutorial https://www.datacamp.com/community/tutorials/tutorial-jupyter-notebook .\n",
    "\n",
    "Late submissions may attract penalty in accordance with the assessment policy outlined in the unit guide.\n",
    "\n",
    "Each question specifies a mark. The final mark of the assignment is the sum of all the individual marks, after applying any deductions for late submission.\n",
    "\n",
    "By submitting this assignment you are acknowledging that this is your own work. Any submissions that break the code of academic honesty will be penalised as per the [academic honesty policy](https://staff.mq.edu.au/work/strategy-planning-and-governance/university-policies-and-procedures/policies/academic-honesty)."
   ]
  }
 ],
 "metadata": {
  "kernelspec": {
   "display_name": "Python 3",
   "language": "python",
   "name": "python3"
  },
  "language_info": {
   "codemirror_mode": {
    "name": "ipython",
    "version": 3
   },
   "file_extension": ".py",
   "mimetype": "text/x-python",
   "name": "python",
   "nbconvert_exporter": "python",
   "pygments_lexer": "ipython3",
   "version": "3.6.5"
  }
 },
 "nbformat": 4,
 "nbformat_minor": 2
}
