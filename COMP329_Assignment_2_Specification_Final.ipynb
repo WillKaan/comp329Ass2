{
 "cells": [
  {
   "cell_type": "markdown",
   "metadata": {},
   "source": [
    "## Assignment 2\n",
    "## Weight: 20%\n",
    "## Unit - COMP329: Artificial Intelligence\n",
    "## Date of Release: 18 October, 2018\n",
    "## Date of Submission: 07 November, 2018 [11: 55 pm]\n"
   ]
  },
  {
   "cell_type": "markdown",
   "metadata": {},
   "source": [
    "### Write your Details below:"
   ]
  },
  {
   "cell_type": "raw",
   "metadata": {},
   "source": [
    "Registration Number: 43666825\n",
    "Name of the student: William Kaan"
   ]
  },
  {
   "cell_type": "markdown",
   "metadata": {},
   "source": [
    "# The goal of this assignment is to appreciate the power of Evolutionary Algorithms (e.g., Genetic Algorithm, or GA in short) for solving real-world problems such as the Travelling Salesman Problem (TSP) and simple adversarial games such as Tic-Tac-Toe."
   ]
  },
  {
   "cell_type": "markdown",
   "metadata": {},
   "source": [
    "## Travelling Salesman Problem:\n",
    "### Acknowledgment: \n",
    "#### The following is largely based on Peter Norvig's note on TSP: (https://github.com/norvig/pytudes/blob/master/ipynb/TSP.ipynb)\n",
    "#### Given a set of cities and the distance between each pair of cities, what is the shortest possible tour that visits each city exactly once, and returns to the starting city?"
   ]
  },
  {
   "cell_type": "markdown",
   "metadata": {},
   "source": [
    "<img src=\"tsp.png\">"
   ]
  },
  {
   "cell_type": "markdown",
   "metadata": {},
   "source": [
    "#### Let's us define the problem more precisely\n",
    "- ***Given a set of cities***\n",
    "<br>A Python `set` could represent a set of cities. An individual city might be just an integer index, or it might be (x, y) coordinates.\n",
    "- ... ***and the distance between each pair of cities***: \n",
    "<br>We could use either a function, `distance(A, B),` or a table, `distance[A, B]`.\n",
    "- ... ***what is the shortest possible tour***\n",
    "<br>A tour is a sequential order in which to visit the cities; a function `shortest_tour(tours)` should find the one that minimizes `tour_length(tour)`, which is the sum of the distances between adjacent cities in the tour. \n",
    "- ... ***that visits each city once and returns to the starting city***\n",
    "<br>Make sure a tour doesn't re-visit a city (except returning to the start)."
   ]
  },
  {
   "cell_type": "markdown",
   "metadata": {},
   "source": [
    "### The *vocabulary* of the problem:\n",
    "\n",
    "- **City**: For the purpose of this exercise, a city is \"atomic\" in the sense that we don't have to know anything about the components or attributes of a city, just how far it is from other cities.\n",
    "- **Cities**: We will need to represent a set of cities; Python's `set` datatype might be appropriate for that.\n",
    "- **Distance**: We will need the distance between two cities.  If `A` and `B` are cities. This could be done with a function, `distance(A, B)`, or with a dict, `distance[A][B]` or `distance[A, B]`, or with an array if `A` and `B` are integer indexes.  The resulting distance will be a real number (which Python calls a `float`).\n",
    "- **Tour**: A tour is an ordered list of cities; Python's `list` or `tuple` datatypes would work.\n",
    "- **Total distance**: The sum of the distances of adjacent cities in the tour. "
   ]
  },
  {
   "cell_type": "code",
   "execution_count": 1,
   "metadata": {},
   "outputs": [],
   "source": [
    "import matplotlib.pyplot as plt\n",
    "import matplotlib.colors as colors\n",
    "import matplotlib.cm as cmx\n",
    "\n",
    "import random, operator, time, itertools, math\n",
    "import numpy\n",
    "\n",
    "%matplotlib inline\n",
    "#%config InlineBackend.figure_format = 'retina'\n",
    "#plt.rc('text', usetex=True)\n",
    "#plt.rc('font', family='serif')\n",
    "#plt.rcParams['text.latex.preamble'] ='\\\\usepackage{libertine}\\n\\\\usepackage[utf8]{inputenc}'\n",
    "\n",
    "import seaborn\n",
    "seaborn.set(style='whitegrid')\n",
    "seaborn.set_context('notebook')"
   ]
  },
  {
   "cell_type": "markdown",
   "metadata": {},
   "source": [
    "### First algorithm: find the tour with shortest total distance from all possible tours\n",
    "\n",
    "> *Generate all the possible tours of the cities, and choose the shortest one (the tour with the minimum total distance).*\n",
    "\n",
    "### Representing Tours\n",
    "\n",
    "- A tour starts in one city, and then visits each of the other cities in order, before finally retirning to the start. \n",
    "- A natural representation of the set of available cities is a Python `set`, and a natural representation of a tour is a sequence that is a *permutation* of the set. \n",
    "- The tuple `(1, 2, 3)`, for example, represents a tour that starts in city 1, moves to 2, then 3, and then returns to 1 to finish the tour."
   ]
  },
  {
   "cell_type": "code",
   "execution_count": 2,
   "metadata": {},
   "outputs": [
    {
     "data": {
      "text/plain": [
       "[(1, 2, 3), (1, 3, 2), (2, 1, 3), (2, 3, 1), (3, 1, 2), (3, 2, 1)]"
      ]
     },
     "execution_count": 2,
     "metadata": {},
     "output_type": "execute_result"
    }
   ],
   "source": [
    "alltours = itertools.permutations\n",
    "cities = {1, 2, 3}\n",
    "list(alltours(cities))"
   ]
  },
  {
   "cell_type": "markdown",
   "metadata": {},
   "source": [
    "### Representing Cities and Distance\n",
    "\n",
    "Now for the notion of *distance*.  We define `total_distance(tour)` as the sum of the distances between consecutive cities in the tour; that part is shown below and is easy (with one Python-specific trick: when `i` is 0, then `distance(tour[0], tour[-1])` gives us the wrap-around distance between the first and last cities, because `tour[-1]` is the last element of `tour`). \n"
   ]
  },
  {
   "cell_type": "code",
   "execution_count": 3,
   "metadata": {},
   "outputs": [],
   "source": [
    "def total_distance(tour):\n",
    "    \"The total distance between each pair of consecutive cities in the tour.\"\n",
    "    return sum(distance(tour[i], tour[i-1]) \n",
    "               for i in range(len(tour)))"
   ]
  },
  {
   "cell_type": "code",
   "execution_count": 4,
   "metadata": {},
   "outputs": [],
   "source": [
    "def exact_TSP(cities):\n",
    "    \"Generate all possible tours of the cities and choose the shortest one.\"\n",
    "    return shortest(alltours(cities))\n",
    "\n",
    "def shortest(tours): \n",
    "    \"Return the tour with the minimum total distance.\"\n",
    "    return min(tours, key=total_distance)"
   ]
  },
  {
   "cell_type": "markdown",
   "metadata": {},
   "source": [
    "### Representing distance between cities"
   ]
  },
  {
   "cell_type": "code",
   "execution_count": 5,
   "metadata": {},
   "outputs": [],
   "source": [
    "City = complex # Constructor for new cities, e.g. City(300, 400)"
   ]
  },
  {
   "cell_type": "code",
   "execution_count": 6,
   "metadata": {},
   "outputs": [],
   "source": [
    "def distance(A, B): \n",
    "    \"The Euclidean distance between two cities.\"\n",
    "    return abs(A - B)"
   ]
  },
  {
   "cell_type": "code",
   "execution_count": 7,
   "metadata": {},
   "outputs": [
    {
     "data": {
      "text/plain": [
       "500.0"
      ]
     },
     "execution_count": 7,
     "metadata": {},
     "output_type": "execute_result"
    }
   ],
   "source": [
    "# An example to show the distance between city A and city B\n",
    "A = City(300, 0)\n",
    "B = City(0, 400)\n",
    "distance(A, B)"
   ]
  },
  {
   "cell_type": "code",
   "execution_count": 8,
   "metadata": {},
   "outputs": [],
   "source": [
    "# function to generate n cities randomly using random number generator\n",
    "def generate_cities(n):\n",
    "    \"Make a set of n cities, each with random coordinates.\"\n",
    "    return set(City(random.randrange(10, 890), \n",
    "                    random.randrange(10, 590)) \n",
    "               for c in range(n))"
   ]
  },
  {
   "cell_type": "code",
   "execution_count": 9,
   "metadata": {},
   "outputs": [],
   "source": [
    "# Generating cities\n",
    "cities8, cities10, cities100, cities1000 = generate_cities(8), generate_cities(10), generate_cities(100), generate_cities(1000)"
   ]
  },
  {
   "cell_type": "code",
   "execution_count": 10,
   "metadata": {},
   "outputs": [
    {
     "data": {
      "text/plain": [
       "{(124+33j),\n",
       " (27+33j),\n",
       " (280+130j),\n",
       " (301+41j),\n",
       " (35+376j),\n",
       " (444+363j),\n",
       " (458+200j),\n",
       " (563+515j),\n",
       " (855+520j),\n",
       " (869+241j)}"
      ]
     },
     "execution_count": 10,
     "metadata": {},
     "output_type": "execute_result"
    }
   ],
   "source": [
    "# Getting coordinates for 10 cities\n",
    "cities10"
   ]
  },
  {
   "cell_type": "markdown",
   "metadata": {},
   "source": [
    "### functions to plot the tour"
   ]
  },
  {
   "cell_type": "code",
   "execution_count": 11,
   "metadata": {},
   "outputs": [],
   "source": [
    "def plot_tour(tour, alpha=1, color=None):\n",
    "    # Plot the tour as blue lines between blue circles, and the starting city as a red square.\n",
    "    plotline(list(tour) + [tour[0]], alpha=alpha, color=color)\n",
    "    plotline([tour[0]], style='gD', alpha=alpha, size=10)\n",
    "    plt.show()\n",
    "    \n",
    "def plotline(points, style='bo-', alpha=1, size=7, color=None):\n",
    "    \"Plot a list of points (complex numbers) in the 2-D plane.\"\n",
    "    X, Y = XY(points)\n",
    "    \n",
    "    if color:\n",
    "        plt.plot(X, Y, style, alpha=alpha, markersize=size, color=color)\n",
    "    else:\n",
    "        plt.plot(X, Y, style, alpha=alpha, markersize=size)\n",
    "    \n",
    "def XY(points):\n",
    "    \"Given a list of points, return two lists: X coordinates, and Y coordinates.\"\n",
    "    return [p.real for p in points], [p.imag for p in points]"
   ]
  },
  {
   "cell_type": "code",
   "execution_count": 12,
   "metadata": {},
   "outputs": [
    {
     "data": {
      "image/png": "[encoded data removed]",
      "text/plain": [
       "<Figure size 432x288 with 1 Axes>"
      ]
     },
     "metadata": {},
     "output_type": "display_data"
    }
   ],
   "source": [
    "tour = exact_TSP(cities10)\n",
    "plot_tour(tour)"
   ]
  },
  {
   "cell_type": "markdown",
   "metadata": {},
   "source": [
    "### Removing redundant tours to increase efficiency\n",
    "The permutation `(1, 2, 3)` represents the tour that goes from 1 to 2 to 3 and back to 1.  You may have noticed that there aren't really six different tours of three cities: the cities 1, 2, and 3 form a triangle;  any tour must connect the three points of the triangle; and there are really only two ways to do this: clockwise or counterclockwise.   In general, with $n$ cities, there are $n!$ (that is, $n$ factorial) permutations, but only  $(n-1)!$,  tours that are *distinct*: the tours `123`, `231`, and `312` are three ways of representing the *same* tour.\n",
    "\n",
    "So we can make our `TSP` program $n$ times faster by never considering redundant tours. Arbitrarily, we will say that all tours must start with the \"first\" city in the set of cities. We don't have to change the definition of `TSP`&mdash;just by making `alltours` return only nonredundant tours, the whole program gets faster.\n"
   ]
  },
  {
   "cell_type": "code",
   "execution_count": 13,
   "metadata": {},
   "outputs": [],
   "source": [
    "def all_non_redundant_tours(cities):\n",
    "    \"Return a list of tours, each a permutation of cities, but each one starting with the same city.\"\n",
    "    start = first(cities)\n",
    "    return [[start] + list(tour)\n",
    "            for tour in itertools.permutations(cities - {start})]\n",
    "\n",
    "def first(collection):\n",
    "    \"Start iterating over collection, and return the first element.\"\n",
    "    for x in collection: return x\n",
    "\n",
    "def exact_non_redundant_TSP(cieaties):\n",
    "    \"Generate all possible tours of the cities and choose the shortest one.\"\n",
    "    return shortest(all_non_redundant_tours(cities))"
   ]
  },
  {
   "cell_type": "code",
   "execution_count": 14,
   "metadata": {},
   "outputs": [
    {
     "data": {
      "text/plain": [
       "[[1, 2, 3], [1, 3, 2]]"
      ]
     },
     "execution_count": 14,
     "metadata": {},
     "output_type": "execute_result"
    }
   ],
   "source": [
    "all_non_redundant_tours({1, 2, 3})"
   ]
  },
  {
   "cell_type": "markdown",
   "metadata": {},
   "source": [
    "### finding time based on First Approach: Exhaustive Search"
   ]
  },
  {
   "cell_type": "code",
   "execution_count": 15,
   "metadata": {},
   "outputs": [
    {
     "name": "stdout",
     "output_type": "stream",
     "text": [
      "450 ms ± 35.5 ms per loop (mean ± std. dev. of 7 runs, 1 loop each)\n"
     ]
    }
   ],
   "source": [
    "%timeit exact_TSP(cities8)"
   ]
  },
  {
   "cell_type": "code",
   "execution_count": 16,
   "metadata": {},
   "outputs": [
    {
     "name": "stdout",
     "output_type": "stream",
     "text": [
      "19.3 µs ± 6.32 µs per loop (mean ± std. dev. of 7 runs, 10000 loops each)\n"
     ]
    }
   ],
   "source": [
    "%timeit exact_non_redundant_TSP(cities8)"
   ]
  },
  {
   "cell_type": "markdown",
   "metadata": {},
   "source": [
    "## Second approach: Approximate (Heuristic) algorithms"
   ]
  },
  {
   "cell_type": "markdown",
   "metadata": {},
   "source": [
    "### Greedy approach (Nearest Neighbor approach)\n",
    "> *Start at any city; at each step extend the tour by moving from the previous city to its nearest neighbor that has not yet been visited.*\n",
    "\n",
    "This is called a *greedy algorithm*, because it greedily takes what looks best in the short term (the nearest neighbor) even when that won't always be the best in the long term. "
   ]
  },
  {
   "cell_type": "code",
   "execution_count": 17,
   "metadata": {},
   "outputs": [],
   "source": [
    "def greedy_TSP(cities):\n",
    "    \"At each step, visit the nearest neighbor that is still unvisited.\"\n",
    "    start = first(cities)\n",
    "    tour = [start]\n",
    "    unvisited = cities - {start}\n",
    "    while unvisited:\n",
    "        C = nearest_neighbor(tour[-1], unvisited)\n",
    "        tour.append(C)\n",
    "        unvisited.remove(C)\n",
    "    return tour"
   ]
  },
  {
   "cell_type": "code",
   "execution_count": 18,
   "metadata": {},
   "outputs": [],
   "source": [
    "def nearest_neighbor(A, cities):\n",
    "    \"Find the city in cities that is nearest to city A.\"\n",
    "    return min(cities, key=lambda x: distance(x, A))"
   ]
  },
  {
   "cell_type": "code",
   "execution_count": 19,
   "metadata": {},
   "outputs": [],
   "source": [
    "cities = generate_cities(10)"
   ]
  },
  {
   "cell_type": "code",
   "execution_count": 20,
   "metadata": {},
   "outputs": [
    {
     "name": "stdout",
     "output_type": "stream",
     "text": [
      "4.2 s ± 412 ms per loop (mean ± std. dev. of 7 runs, 1 loop each)\n"
     ]
    }
   ],
   "source": [
    "%timeit exact_non_redundant_TSP(cities)"
   ]
  },
  {
   "cell_type": "code",
   "execution_count": 21,
   "metadata": {},
   "outputs": [
    {
     "data": {
      "image/png": "[encoded data removed]",
      "text/plain": [
       "<Figure size 432x288 with 1 Axes>"
      ]
     },
     "metadata": {},
     "output_type": "display_data"
    }
   ],
   "source": [
    "plot_tour(exact_non_redundant_TSP(cities))"
   ]
  },
  {
   "cell_type": "code",
   "execution_count": 22,
   "metadata": {},
   "outputs": [
    {
     "name": "stdout",
     "output_type": "stream",
     "text": [
      "66.8 µs ± 7.27 µs per loop (mean ± std. dev. of 7 runs, 10000 loops each)\n"
     ]
    }
   ],
   "source": [
    "%timeit greedy_TSP(cities)"
   ]
  },
  {
   "cell_type": "code",
   "execution_count": 23,
   "metadata": {},
   "outputs": [
    {
     "data": {
      "image/png": "[encoded data removed]",
      "text/plain": [
       "<Figure size 432x288 with 1 Axes>"
      ]
     },
     "metadata": {},
     "output_type": "display_data"
    }
   ],
   "source": [
    "plot_tour(greedy_TSP(cities))"
   ]
  },
  {
   "cell_type": "markdown",
   "metadata": {},
   "source": [
    "Comparing the time taken to get results for 10 cities, it is clear that greedy approach is efficient compared to the exhaustive search.\n",
    "\n",
    "A [greedy algorithm](http://en.wikipedia.org/wiki/Greedy_algorithm) is an algorithm that follows the problem solving heuristic of making the locally optimal choice at each stage with the hope of finding a global optimum. In many problems, a greedy strategy does not in general produce an optimal solution, but nonetheless a greedy heuristic may yield locally optimal solutions that approximate a global optimal solution in a reasonable time.\n",
    "\n",
    "For many problmes greedy algorithms fail to produce the optimal solution, and may even produce the *unique worst possible solution*."
   ]
  },
  {
   "cell_type": "markdown",
   "metadata": {},
   "source": [
    "### A thought on computational complexity\n",
    "\n",
    "<img src='http://imgs.xkcd.com/comics/travelling_salesman_problem.png' align='center' width='65%'/>\n"
   ]
  },
  {
   "cell_type": "markdown",
   "metadata": {},
   "source": [
    "# Biologically inspired metaheuristic: Genetic Algorithm (GA)\n",
    "\n",
    "- We have already studied GA in our lectures and did practice in our labs for one-max problem\n",
    "- They are an option in which we dedicate a little more computational effort in order to produce better solutions than `greedy_TSP()`.\n",
    "\n",
    "> We will be using the [DEAP](https://github.com/DEAP/deap) library to code this tackle this problem using a genetic algorithm. We have used DEAP in practical classes in this unit.\n",
    "\n",
    "[<img src='https://raw.githubusercontent.com/DEAP/deap/master/doc/_static/deap_long.png' width='29%' align='center'/>](https://github.com/DEAP/deap)"
   ]
  },
  {
   "cell_type": "code",
   "execution_count": 24,
   "metadata": {},
   "outputs": [],
   "source": [
    "from deap import algorithms, base, creator, tools"
   ]
  },
  {
   "cell_type": "code",
   "execution_count": 25,
   "metadata": {},
   "outputs": [],
   "source": [
    "num_cities = 30\n",
    "cities = generate_cities(num_cities)"
   ]
  },
  {
   "cell_type": "code",
   "execution_count": 26,
   "metadata": {},
   "outputs": [],
   "source": [
    "toolbox = base.Toolbox()"
   ]
  },
  {
   "cell_type": "code",
   "execution_count": 27,
   "metadata": {},
   "outputs": [],
   "source": [
    "creator.create(\"FitnessMin\", base.Fitness, weights=(-1.0,))\n",
    "creator.create(\"Individual\", list, fitness=creator.FitnessMin)"
   ]
  },
  {
   "cell_type": "code",
   "execution_count": 28,
   "metadata": {},
   "outputs": [],
   "source": [
    "toolbox.register(\"indices\", numpy.random.permutation, len(cities))\n",
    "toolbox.register(\"individual\", tools.initIterate, creator.Individual,\n",
    "                 toolbox.indices)\n",
    "toolbox.register(\"population\", tools.initRepeat, list, \n",
    "                 toolbox.individual)"
   ]
  },
  {
   "cell_type": "code",
   "execution_count": 29,
   "metadata": {},
   "outputs": [],
   "source": [
    "toolbox.register(\"mate\", tools.cxOrdered)\n",
    "toolbox.register(\"mutate\", tools.mutShuffleIndexes, indpb=0.05)"
   ]
  },
  {
   "cell_type": "code",
   "execution_count": 30,
   "metadata": {},
   "outputs": [],
   "source": [
    "def create_tour(individual):\n",
    "    return [list(cities)[e] for e in individual]"
   ]
  },
  {
   "cell_type": "code",
   "execution_count": 31,
   "metadata": {},
   "outputs": [],
   "source": [
    "def evaluation(individual):\n",
    "    '''Evaluates an individual by converting it into \n",
    "    a list of cities and passing that list to total_distance'''\n",
    "    return (total_distance(create_tour(individual)),)"
   ]
  },
  {
   "cell_type": "code",
   "execution_count": 32,
   "metadata": {},
   "outputs": [],
   "source": [
    "toolbox.register(\"evaluate\", evaluation)"
   ]
  },
  {
   "cell_type": "code",
   "execution_count": 33,
   "metadata": {},
   "outputs": [],
   "source": [
    "toolbox.register(\"select\", tools.selTournament, tournsize=3)"
   ]
  },
  {
   "cell_type": "code",
   "execution_count": 34,
   "metadata": {},
   "outputs": [],
   "source": [
    "pop = toolbox.population(n=100)"
   ]
  },
  {
   "cell_type": "code",
   "execution_count": 35,
   "metadata": {},
   "outputs": [
    {
     "name": "stdout",
     "output_type": "stream",
     "text": [
      "Wall time: 17.3 s\n"
     ]
    }
   ],
   "source": [
    "%%time \n",
    "result, log = algorithms.eaSimple(pop, toolbox,\n",
    "                             cxpb=0.8, mutpb=0.2,\n",
    "                             ngen=400, verbose=False)"
   ]
  },
  {
   "cell_type": "markdown",
   "metadata": {},
   "source": [
    "Let's check the efficiency of GA"
   ]
  },
  {
   "cell_type": "code",
   "execution_count": 36,
   "metadata": {},
   "outputs": [
    {
     "name": "stdout",
     "output_type": "stream",
     "text": [
      "Fitness of the best individual:  (3269.9268214968797,)\n"
     ]
    }
   ],
   "source": [
    "best_individual = tools.selBest(result, k=1)[0]\n",
    "print('Fitness of the best individual: ', evaluation(best_individual))"
   ]
  },
  {
   "cell_type": "code",
   "execution_count": 37,
   "metadata": {
    "scrolled": true
   },
   "outputs": [
    {
     "data": {
      "image/png": "[encoded data removed]",
      "text/plain": [
       "<Figure size 432x288 with 1 Axes>"
      ]
     },
     "metadata": {},
     "output_type": "display_data"
    }
   ],
   "source": [
    "plot_tour(create_tour(best_individual))"
   ]
  },
  {
   "cell_type": "markdown",
   "metadata": {},
   "source": [
    "It is interesting to assess how the fitness of the population changes as the evolution process proceeds. \n",
    "\n",
    "We can prepare a `deap.tools.Statistics` instance to specify what data to collect. "
   ]
  },
  {
   "cell_type": "code",
   "execution_count": 38,
   "metadata": {},
   "outputs": [],
   "source": [
    "fit_stats = tools.Statistics(key=operator.attrgetter(\"fitness.values\"))\n",
    "fit_stats.register('mean', numpy.mean)\n",
    "fit_stats.register('min', numpy.min)"
   ]
  },
  {
   "cell_type": "code",
   "execution_count": 39,
   "metadata": {},
   "outputs": [],
   "source": [
    "result, log = algorithms.eaSimple(toolbox.population(n=100), toolbox,\n",
    "                                  cxpb=0.5, mutpb=0.2,\n",
    "                                  ngen=400, verbose=False,\n",
    "                                  stats=fit_stats)"
   ]
  },
  {
   "cell_type": "markdown",
   "metadata": {},
   "source": [
    "#### Plotting mean and minimum fitness values as evolution proceeds"
   ]
  },
  {
   "cell_type": "code",
   "execution_count": 40,
   "metadata": {},
   "outputs": [
    {
     "data": {
      "image/png": "[encoded data removed]",
      "text/plain": [
       "<Figure size 792x288 with 1 Axes>"
      ]
     },
     "metadata": {},
     "output_type": "display_data"
    }
   ],
   "source": [
    "plt.figure(figsize=(11, 4))\n",
    "plots = plt.plot(log.select('min'),'c-', log.select('mean'), 'b-')\n",
    "plt.legend(plots, ('Minimum fitness', 'Mean fitness'), frameon=True)\n",
    "plt.ylabel('Fitness'); plt.xlabel('Iterations');"
   ]
  },
  {
   "cell_type": "markdown",
   "metadata": {},
   "source": [
    "### Q1. Compare the efficiency (time taken) of Exhaustive search, greedy search and Genetic Algorithm for 30 cities based on the configuration of your machine. If necessary, use estimates, but detail the reason for, and the basis of, the estimates used.  [ 1 Marks]"
   ]
  },
  {
   "cell_type": "code",
   "execution_count": 43,
   "metadata": {},
   "outputs": [
    {
     "ename": "KeyboardInterrupt",
     "evalue": "",
     "output_type": "error",
     "traceback": [
      "\u001b[1;31m---------------------------------------------------------------------------\u001b[0m",
      "\u001b[1;31mKeyboardInterrupt\u001b[0m                         Traceback (most recent call last)",
      "\u001b[1;32m<ipython-input-43-3d1c44518fbb>\u001b[0m in \u001b[0;36m<module>\u001b[1;34m()\u001b[0m\n\u001b[0;32m      2\u001b[0m \u001b[0mnum_cities\u001b[0m \u001b[1;33m=\u001b[0m \u001b[1;36m30\u001b[0m\u001b[1;33m\u001b[0m\u001b[0m\n\u001b[0;32m      3\u001b[0m \u001b[0mcities\u001b[0m \u001b[1;33m=\u001b[0m \u001b[0mgenerate_cities\u001b[0m\u001b[1;33m(\u001b[0m\u001b[0mnum_cities\u001b[0m\u001b[1;33m)\u001b[0m\u001b[1;33m\u001b[0m\u001b[0m\n\u001b[1;32m----> 4\u001b[1;33m \u001b[0mget_ipython\u001b[0m\u001b[1;33m(\u001b[0m\u001b[1;33m)\u001b[0m\u001b[1;33m.\u001b[0m\u001b[0mrun_line_magic\u001b[0m\u001b[1;33m(\u001b[0m\u001b[1;34m'timeit'\u001b[0m\u001b[1;33m,\u001b[0m \u001b[1;34m'exact_TSP(cities)'\u001b[0m\u001b[1;33m)\u001b[0m\u001b[1;33m\u001b[0m\u001b[0m\n\u001b[0m\u001b[0;32m      5\u001b[0m \u001b[0mget_ipython\u001b[0m\u001b[1;33m(\u001b[0m\u001b[1;33m)\u001b[0m\u001b[1;33m.\u001b[0m\u001b[0mrun_line_magic\u001b[0m\u001b[1;33m(\u001b[0m\u001b[1;34m'timeit'\u001b[0m\u001b[1;33m,\u001b[0m \u001b[1;34m'greedy_TSP(cities)'\u001b[0m\u001b[1;33m)\u001b[0m\u001b[1;33m\u001b[0m\u001b[0m\n\u001b[0;32m      6\u001b[0m \u001b[0mget_ipython\u001b[0m\u001b[1;33m(\u001b[0m\u001b[1;33m)\u001b[0m\u001b[1;33m.\u001b[0m\u001b[0mrun_line_magic\u001b[0m\u001b[1;33m(\u001b[0m\u001b[1;34m'timeit'\u001b[0m\u001b[1;33m,\u001b[0m \u001b[1;34m'result, log = algorithms.eaSimple(pop, toolbox,cxpb=0.8, mutpb=0.2,ngen=400, verbose=False)'\u001b[0m\u001b[1;33m)\u001b[0m\u001b[1;33m\u001b[0m\u001b[0m\n",
      "\u001b[1;32m~\\Anaconda3\\lib\\site-packages\\IPython\\core\\interactiveshell.py\u001b[0m in \u001b[0;36mrun_line_magic\u001b[1;34m(self, magic_name, line, _stack_depth)\u001b[0m\n\u001b[0;32m   2129\u001b[0m                 \u001b[0mkwargs\u001b[0m\u001b[1;33m[\u001b[0m\u001b[1;34m'local_ns'\u001b[0m\u001b[1;33m]\u001b[0m \u001b[1;33m=\u001b[0m \u001b[0msys\u001b[0m\u001b[1;33m.\u001b[0m\u001b[0m_getframe\u001b[0m\u001b[1;33m(\u001b[0m\u001b[0mstack_depth\u001b[0m\u001b[1;33m)\u001b[0m\u001b[1;33m.\u001b[0m\u001b[0mf_locals\u001b[0m\u001b[1;33m\u001b[0m\u001b[0m\n\u001b[0;32m   2130\u001b[0m             \u001b[1;32mwith\u001b[0m \u001b[0mself\u001b[0m\u001b[1;33m.\u001b[0m\u001b[0mbuiltin_trap\u001b[0m\u001b[1;33m:\u001b[0m\u001b[1;33m\u001b[0m\u001b[0m\n\u001b[1;32m-> 2131\u001b[1;33m                 \u001b[0mresult\u001b[0m \u001b[1;33m=\u001b[0m \u001b[0mfn\u001b[0m\u001b[1;33m(\u001b[0m\u001b[1;33m*\u001b[0m\u001b[0margs\u001b[0m\u001b[1;33m,\u001b[0m\u001b[1;33m**\u001b[0m\u001b[0mkwargs\u001b[0m\u001b[1;33m)\u001b[0m\u001b[1;33m\u001b[0m\u001b[0m\n\u001b[0m\u001b[0;32m   2132\u001b[0m             \u001b[1;32mreturn\u001b[0m \u001b[0mresult\u001b[0m\u001b[1;33m\u001b[0m\u001b[0m\n\u001b[0;32m   2133\u001b[0m \u001b[1;33m\u001b[0m\u001b[0m\n",
      "\u001b[1;32m<decorator-gen-62>\u001b[0m in \u001b[0;36mtimeit\u001b[1;34m(self, line, cell, local_ns)\u001b[0m\n",
      "\u001b[1;32m~\\Anaconda3\\lib\\site-packages\\IPython\\core\\magic.py\u001b[0m in \u001b[0;36m<lambda>\u001b[1;34m(f, *a, **k)\u001b[0m\n\u001b[0;32m    185\u001b[0m     \u001b[1;31m# but it's overkill for just that one bit of state.\u001b[0m\u001b[1;33m\u001b[0m\u001b[1;33m\u001b[0m\u001b[0m\n\u001b[0;32m    186\u001b[0m     \u001b[1;32mdef\u001b[0m \u001b[0mmagic_deco\u001b[0m\u001b[1;33m(\u001b[0m\u001b[0marg\u001b[0m\u001b[1;33m)\u001b[0m\u001b[1;33m:\u001b[0m\u001b[1;33m\u001b[0m\u001b[0m\n\u001b[1;32m--> 187\u001b[1;33m         \u001b[0mcall\u001b[0m \u001b[1;33m=\u001b[0m \u001b[1;32mlambda\u001b[0m \u001b[0mf\u001b[0m\u001b[1;33m,\u001b[0m \u001b[1;33m*\u001b[0m\u001b[0ma\u001b[0m\u001b[1;33m,\u001b[0m \u001b[1;33m**\u001b[0m\u001b[0mk\u001b[0m\u001b[1;33m:\u001b[0m \u001b[0mf\u001b[0m\u001b[1;33m(\u001b[0m\u001b[1;33m*\u001b[0m\u001b[0ma\u001b[0m\u001b[1;33m,\u001b[0m \u001b[1;33m**\u001b[0m\u001b[0mk\u001b[0m\u001b[1;33m)\u001b[0m\u001b[1;33m\u001b[0m\u001b[0m\n\u001b[0m\u001b[0;32m    188\u001b[0m \u001b[1;33m\u001b[0m\u001b[0m\n\u001b[0;32m    189\u001b[0m         \u001b[1;32mif\u001b[0m \u001b[0mcallable\u001b[0m\u001b[1;33m(\u001b[0m\u001b[0marg\u001b[0m\u001b[1;33m)\u001b[0m\u001b[1;33m:\u001b[0m\u001b[1;33m\u001b[0m\u001b[0m\n",
      "\u001b[1;32m~\\Anaconda3\\lib\\site-packages\\IPython\\core\\magics\\execution.py\u001b[0m in \u001b[0;36mtimeit\u001b[1;34m(self, line, cell, local_ns)\u001b[0m\n\u001b[0;32m   1096\u001b[0m             \u001b[1;32mfor\u001b[0m \u001b[0mindex\u001b[0m \u001b[1;32min\u001b[0m \u001b[0mrange\u001b[0m\u001b[1;33m(\u001b[0m\u001b[1;36m0\u001b[0m\u001b[1;33m,\u001b[0m \u001b[1;36m10\u001b[0m\u001b[1;33m)\u001b[0m\u001b[1;33m:\u001b[0m\u001b[1;33m\u001b[0m\u001b[0m\n\u001b[0;32m   1097\u001b[0m                 \u001b[0mnumber\u001b[0m \u001b[1;33m=\u001b[0m \u001b[1;36m10\u001b[0m \u001b[1;33m**\u001b[0m \u001b[0mindex\u001b[0m\u001b[1;33m\u001b[0m\u001b[0m\n\u001b[1;32m-> 1098\u001b[1;33m                 \u001b[0mtime_number\u001b[0m \u001b[1;33m=\u001b[0m \u001b[0mtimer\u001b[0m\u001b[1;33m.\u001b[0m\u001b[0mtimeit\u001b[0m\u001b[1;33m(\u001b[0m\u001b[0mnumber\u001b[0m\u001b[1;33m)\u001b[0m\u001b[1;33m\u001b[0m\u001b[0m\n\u001b[0m\u001b[0;32m   1099\u001b[0m                 \u001b[1;32mif\u001b[0m \u001b[0mtime_number\u001b[0m \u001b[1;33m>=\u001b[0m \u001b[1;36m0.2\u001b[0m\u001b[1;33m:\u001b[0m\u001b[1;33m\u001b[0m\u001b[0m\n\u001b[0;32m   1100\u001b[0m                     \u001b[1;32mbreak\u001b[0m\u001b[1;33m\u001b[0m\u001b[0m\n",
      "\u001b[1;32m~\\Anaconda3\\lib\\site-packages\\IPython\\core\\magics\\execution.py\u001b[0m in \u001b[0;36mtimeit\u001b[1;34m(self, number)\u001b[0m\n\u001b[0;32m    158\u001b[0m         \u001b[0mgc\u001b[0m\u001b[1;33m.\u001b[0m\u001b[0mdisable\u001b[0m\u001b[1;33m(\u001b[0m\u001b[1;33m)\u001b[0m\u001b[1;33m\u001b[0m\u001b[0m\n\u001b[0;32m    159\u001b[0m         \u001b[1;32mtry\u001b[0m\u001b[1;33m:\u001b[0m\u001b[1;33m\u001b[0m\u001b[0m\n\u001b[1;32m--> 160\u001b[1;33m             \u001b[0mtiming\u001b[0m \u001b[1;33m=\u001b[0m \u001b[0mself\u001b[0m\u001b[1;33m.\u001b[0m\u001b[0minner\u001b[0m\u001b[1;33m(\u001b[0m\u001b[0mit\u001b[0m\u001b[1;33m,\u001b[0m \u001b[0mself\u001b[0m\u001b[1;33m.\u001b[0m\u001b[0mtimer\u001b[0m\u001b[1;33m)\u001b[0m\u001b[1;33m\u001b[0m\u001b[0m\n\u001b[0m\u001b[0;32m    161\u001b[0m         \u001b[1;32mfinally\u001b[0m\u001b[1;33m:\u001b[0m\u001b[1;33m\u001b[0m\u001b[0m\n\u001b[0;32m    162\u001b[0m             \u001b[1;32mif\u001b[0m \u001b[0mgcold\u001b[0m\u001b[1;33m:\u001b[0m\u001b[1;33m\u001b[0m\u001b[0m\n",
      "\u001b[1;32m<magic-timeit>\u001b[0m in \u001b[0;36minner\u001b[1;34m(_it, _timer)\u001b[0m\n",
      "\u001b[1;32m<ipython-input-4-90f60cb450a8>\u001b[0m in \u001b[0;36mexact_TSP\u001b[1;34m(cities)\u001b[0m\n\u001b[0;32m      1\u001b[0m \u001b[1;32mdef\u001b[0m \u001b[0mexact_TSP\u001b[0m\u001b[1;33m(\u001b[0m\u001b[0mcities\u001b[0m\u001b[1;33m)\u001b[0m\u001b[1;33m:\u001b[0m\u001b[1;33m\u001b[0m\u001b[0m\n\u001b[0;32m      2\u001b[0m     \u001b[1;34m\"Generate all possible tours of the cities and choose the shortest one.\"\u001b[0m\u001b[1;33m\u001b[0m\u001b[0m\n\u001b[1;32m----> 3\u001b[1;33m     \u001b[1;32mreturn\u001b[0m \u001b[0mshortest\u001b[0m\u001b[1;33m(\u001b[0m\u001b[0malltours\u001b[0m\u001b[1;33m(\u001b[0m\u001b[0mcities\u001b[0m\u001b[1;33m)\u001b[0m\u001b[1;33m)\u001b[0m\u001b[1;33m\u001b[0m\u001b[0m\n\u001b[0m\u001b[0;32m      4\u001b[0m \u001b[1;33m\u001b[0m\u001b[0m\n\u001b[0;32m      5\u001b[0m \u001b[1;32mdef\u001b[0m \u001b[0mshortest\u001b[0m\u001b[1;33m(\u001b[0m\u001b[0mtours\u001b[0m\u001b[1;33m)\u001b[0m\u001b[1;33m:\u001b[0m\u001b[1;33m\u001b[0m\u001b[0m\n",
      "\u001b[1;32m<ipython-input-4-90f60cb450a8>\u001b[0m in \u001b[0;36mshortest\u001b[1;34m(tours)\u001b[0m\n\u001b[0;32m      5\u001b[0m \u001b[1;32mdef\u001b[0m \u001b[0mshortest\u001b[0m\u001b[1;33m(\u001b[0m\u001b[0mtours\u001b[0m\u001b[1;33m)\u001b[0m\u001b[1;33m:\u001b[0m\u001b[1;33m\u001b[0m\u001b[0m\n\u001b[0;32m      6\u001b[0m     \u001b[1;34m\"Return the tour with the minimum total distance.\"\u001b[0m\u001b[1;33m\u001b[0m\u001b[0m\n\u001b[1;32m----> 7\u001b[1;33m     \u001b[1;32mreturn\u001b[0m \u001b[0mmin\u001b[0m\u001b[1;33m(\u001b[0m\u001b[0mtours\u001b[0m\u001b[1;33m,\u001b[0m \u001b[0mkey\u001b[0m\u001b[1;33m=\u001b[0m\u001b[0mtotal_distance\u001b[0m\u001b[1;33m)\u001b[0m\u001b[1;33m\u001b[0m\u001b[0m\n\u001b[0m",
      "\u001b[1;32m<ipython-input-3-c528a7f19381>\u001b[0m in \u001b[0;36mtotal_distance\u001b[1;34m(tour)\u001b[0m\n\u001b[0;32m      2\u001b[0m     \u001b[1;34m\"The total distance between each pair of consecutive cities in the tour.\"\u001b[0m\u001b[1;33m\u001b[0m\u001b[0m\n\u001b[0;32m      3\u001b[0m     return sum(distance(tour[i], tour[i-1]) \n\u001b[1;32m----> 4\u001b[1;33m                for i in range(len(tour)))\n\u001b[0m",
      "\u001b[1;32m<ipython-input-3-c528a7f19381>\u001b[0m in \u001b[0;36m<genexpr>\u001b[1;34m(.0)\u001b[0m\n\u001b[0;32m      2\u001b[0m     \u001b[1;34m\"The total distance between each pair of consecutive cities in the tour.\"\u001b[0m\u001b[1;33m\u001b[0m\u001b[0m\n\u001b[0;32m      3\u001b[0m     return sum(distance(tour[i], tour[i-1]) \n\u001b[1;32m----> 4\u001b[1;33m                for i in range(len(tour)))\n\u001b[0m",
      "\u001b[1;32m<ipython-input-6-92ba530a8950>\u001b[0m in \u001b[0;36mdistance\u001b[1;34m(A, B)\u001b[0m\n\u001b[0;32m      1\u001b[0m \u001b[1;32mdef\u001b[0m \u001b[0mdistance\u001b[0m\u001b[1;33m(\u001b[0m\u001b[0mA\u001b[0m\u001b[1;33m,\u001b[0m \u001b[0mB\u001b[0m\u001b[1;33m)\u001b[0m\u001b[1;33m:\u001b[0m\u001b[1;33m\u001b[0m\u001b[0m\n\u001b[0;32m      2\u001b[0m     \u001b[1;34m\"The Euclidean distance between two cities.\"\u001b[0m\u001b[1;33m\u001b[0m\u001b[0m\n\u001b[1;32m----> 3\u001b[1;33m     \u001b[1;32mreturn\u001b[0m \u001b[0mabs\u001b[0m\u001b[1;33m(\u001b[0m\u001b[0mA\u001b[0m \u001b[1;33m-\u001b[0m \u001b[0mB\u001b[0m\u001b[1;33m)\u001b[0m\u001b[1;33m\u001b[0m\u001b[0m\n\u001b[0m",
      "\u001b[1;31mKeyboardInterrupt\u001b[0m: "
     ]
    }
   ],
   "source": [
    "# Write your (expected) output and analysis here\n",
    "num_cities = 30\n",
    "cities = generate_cities(num_cities)\n",
    "#%timeit exact_TSP(cities)\n",
    "%timeit greedy_TSP(cities)\n",
    "%timeit result, log = algorithms.eaSimple(pop, toolbox,cxpb=0.8, mutpb=0.2,ngen=400, verbose=False)\n",
    "#%timeit tools.selBest(result, k=1)[0]"
   ]
  },
  {
   "cell_type": "code",
   "execution_count": null,
   "metadata": {},
   "outputs": [],
   "source": []
  },
  {
   "cell_type": "markdown",
   "metadata": {},
   "source": [
    "### Q2. Analyse the effect of population size for the above experiment. Try population size having value [25, 50, 75, 100, 125, 150, 175, 200] [ 1.5 Marks]"
   ]
  },
  {
   "cell_type": "code",
   "execution_count": 44,
   "metadata": {},
   "outputs": [
    {
     "name": "stdout",
     "output_type": "stream",
     "text": [
      "Wall time: 3.68 s\n",
      "Wall time: 8.74 s\n",
      "Wall time: 12.3 s\n",
      "Wall time: 16.6 s\n",
      "Wall time: 19.9 s\n",
      "Wall time: 23.9 s\n",
      "Wall time: 26 s\n",
      "Wall time: 29.5 s\n"
     ]
    }
   ],
   "source": [
    "# Write your code here\n",
    "num_cities = 30\n",
    "cities = generate_cities(num_cities)\n",
    "x = [25, 50, 75, 100, 125, 150, 175, 200]\n",
    "for each in x:\n",
    "    pop = toolbox.population(n=each)\n",
    "    %time result, log = algorithms.eaSimple(pop, toolbox,cxpb=0.8, mutpb=0.2,ngen=400, verbose=False)"
   ]
  },
  {
   "cell_type": "raw",
   "metadata": {},
   "source": [
    "A linear increase in time"
   ]
  },
  {
   "cell_type": "markdown",
   "metadata": {},
   "source": [
    "### Q3. What is the influence  of mutation probability and cross-over probability over the performance of  GA. [ 1.5 Marks]"
   ]
  },
  {
   "cell_type": "code",
   "execution_count": null,
   "metadata": {},
   "outputs": [],
   "source": [
    "# Write your code here\n",
    "\n",
    "for each in x:\n",
    "    pop = toolbox.population(n=each)\n",
    "    %time result, log = algorithms.eaSimple(pop, toolbox,cxpb=0.5, mutpb=0.5,ngen=400, verbose=False)\n",
    "    best_individual = tools.selBest(result, k=1)[0]\n",
    "    create_tour(best_individual)\n",
    "    \n",
    "plt.figure(figsize=(11, 4))\n",
    "plots = plt.plot(log.select('min'),'c-', log.select('mean'), 'b-')\n",
    "plt.legend(plots, ('Minimum fitness', 'Mean fitness'), frameon=True)\n",
    "plt.ylabel('Fitness'); plt.xlabel('Iterations');\n"
   ]
  },
  {
   "cell_type": "raw",
   "metadata": {},
   "source": [
    "Write your analysis here"
   ]
  },
  {
   "cell_type": "markdown",
   "metadata": {},
   "source": [
    "### Extending GA to real data\n",
    "\n",
    "We are given a set of 14 GPS positions, each coordinate representing a city in Burma (Officially the Republic of the Union of Myanmar). Our objective is to solve the TSP problem over these 14 cities. You need to do bit of independent research for finding the formula to convert the GPS coodinates of two cities (in latitudes and longitudes) to the actual distance between those two cities.\n",
    "\n",
    "City[i] = {LAT[i], LON[i]}"
   ]
  },
  {
   "cell_type": "code",
   "execution_count": null,
   "metadata": {},
   "outputs": [],
   "source": [
    "LAT = [16.47, 16.47, 20.09, 22.39, 25.23, 22.00, 20.47, \n",
    "        17.20, 16.30, 14.05, 16.53, 21.52, 19.41, 20.09]\n",
    "\n",
    "LON = [96.10, 94.44, 92.54, 93.37, 97.24, 96.05, 97.02, \n",
    "        96.29, 97.38, 98.12, 97.38, 95.59, 97.13, 94.55]\n"
   ]
  },
  {
   "cell_type": "markdown",
   "metadata": {},
   "source": [
    "### Q4. Calculate the total distance (in Kilometres) of a tour starting with city[0], going in the order given to city[1], city[2], ... city[13] and coming back to city[0],  based on *Latitude* and *Longitude* of the 14 cities above. [2 Marks] "
   ]
  },
  {
   "cell_type": "code",
   "execution_count": null,
   "metadata": {},
   "outputs": [],
   "source": [
    "from math import radians, sin, cos, asin, sqrt\n",
    "\n",
    "def calculateDistance(city1,city2):\n",
    "    lat1 = city1.real\n",
    "    long1 = city1.imag\n",
    "    lat2 = city2.real\n",
    "    long2 = city2.imag\n",
    "    lat1, lat2, long1, long2 = map(radians, [lat1, lat2, long1, long2])\n",
    "    r = 6371\n",
    "    latD = lat2 - lat1\n",
    "    longD = long2 - long1\n",
    "    p1 = sin(latD/2) ** 2\n",
    "    p2 = cos(lat1) * cos(lat2)\n",
    "    p3 = sin(longD/2)**2\n",
    "    h = p1 + p2 * p3\n",
    "    d = 2 * r * asin(sqrt(h))\n",
    "    return d\n",
    "\n",
    "def total_Circle_distance(tour):\n",
    "    \"The total distance between each pair of consecutive cities in the tour.\"\n",
    "    return sum(calculateDistance(tour[i], tour[i-1]) \n",
    "               for i in range(len(tour)))"
   ]
  },
  {
   "cell_type": "code",
   "execution_count": null,
   "metadata": {},
   "outputs": [],
   "source": [
    "# Write your code here\n",
    "Cities = []\n",
    "for i in range(0,8):\n",
    "    Cities.append(City(LAT[i],LON[i]))\n",
    "\n",
    "print(total_Circle_distance(Cities))\n",
    "\n",
    "plot_tour(Cities)"
   ]
  },
  {
   "cell_type": "markdown",
   "metadata": {},
   "source": [
    "### Q5. Provide the optimal route you found employing GA, and its length in kilometers.  [2 Marks]"
   ]
  },
  {
   "cell_type": "code",
   "execution_count": null,
   "metadata": {},
   "outputs": [],
   "source": [
    "# Write your code here\n",
    "def evaluation2(individual):\n",
    "    '''Evaluates an individual by converting it into \n",
    "    a list of cities and passing that list to total_distance'''\n",
    "    return (total_Circle_distance(create_tour2(individual)),)\n",
    "2\n",
    "def create_tour2(individual):\n",
    "    return [list(Cities)[e] for e in individual]\n",
    "\n",
    "toolbox = base.Toolbox()\n",
    "creator.create(\"Individual\", list, fitness=creator.FitnessMin)\n",
    "toolbox.register(\"indices\", numpy.random.permutation, len(Cities))\n",
    "toolbox.register(\"individual\", tools.initIterate, creator.Individual,\n",
    "                 toolbox.indices)\n",
    "toolbox.register(\"population\", tools.initRepeat, list, \n",
    "                 toolbox.individual)\n",
    "toolbox.register(\"evaluate\", evaluation2)\n",
    "toolbox.register(\"mate\", tools.cxOrdered)\n",
    "toolbox.register(\"mutate\", tools.mutShuffleIndexes, indpb=0.05)\n",
    "toolbox.register(\"select\", tools.selTournament, tournsize=3)\n",
    "\n",
    "result, log = algorithms.eaSimple(toolbox.population(n=200), toolbox,\n",
    "                                  cxpb=0.1, mutpb=0.1,\n",
    "                                  ngen=400, verbose=False,\n",
    "                                  stats=fit_stats)\n",
    "\n",
    "best_individual = tools.selBest(result, k=1)[0]\n",
    "evaluation2(best_individual)"
   ]
  },
  {
   "cell_type": "code",
   "execution_count": null,
   "metadata": {},
   "outputs": [],
   "source": [
    "fit_stats = tools.Statistics(key=operator.attrgetter(\"fitness.values\"))\n",
    "fit_stats.register('mean', numpy.mean)\n",
    "fit_stats.register('min', numpy.min)"
   ]
  },
  {
   "cell_type": "code",
   "execution_count": null,
   "metadata": {},
   "outputs": [],
   "source": [
    "plot_tour(create_tour2(best_individual))"
   ]
  },
  {
   "cell_type": "markdown",
   "metadata": {},
   "source": [
    "### Q6. Describe your fitness function, and the way you encoded the potential solutions. [2 Marks]"
   ]
  },
  {
   "cell_type": "raw",
   "metadata": {},
   "source": [
    "The fitness function is similar to that of the previous calculations with the 'Cities' using complex numbers. However, the evaluation calculates the total of the haversine distance between each city rather than the numerical difference between the two given representative points for the 'City'.\n",
    "Furthermore, the route between the locations uses permuation of a list of all cities and each "
   ]
  },
  {
   "cell_type": "markdown",
   "metadata": {},
   "source": [
    "### Q7. Provide the configuration of the GA you finally used, namely, mutation probability, crossover probability, population size, type of selection, type of mutation, type of crossover, and number of generations. [2 Marks]"
   ]
  },
  {
   "cell_type": "raw",
   "metadata": {},
   "source": [
    "Explain here"
   ]
  },
  {
   "cell_type": "markdown",
   "metadata": {},
   "source": [
    "## Solving Tic-Tac-Toe using Genetic Algorithm (GA)\n",
    "The game of Tic Tac Toe (2D) is played on a 3 by 3 grid.  One player marks her squares with an X, and the other with an O.  The players alternate, placing their marks on an empty cell on the grid with the hope of winning the game.  The winner of the game is the first player to place 3 of their marks in a line (row, column, and diagnoal).  If the entire grid is filled with marks, and there is no winner, the game is declared a draw.  Your task is to create a player to play the 3D version of this game without any knowledge of strategies for playing Tic Tac Toe.  The only rule that is known to this evolving player is that the players alternate their turns, and when it is the evolving player’s turn, it could only place its own mark on an empty spot in the grid. We have already implemented Negamax algorithm to play 3D tic-tac-toe in one of the practicals. In this assignment, we try to solve 3D (3 x 3 x 3) Tic-Tac-Toe game using Genetic Algorithm (GA). "
   ]
  },
  {
   "cell_type": "markdown",
   "metadata": {},
   "source": [
    "### 3D (3 x 3 x 3) tic-tac-toe\n",
    "<img src=\"3d_tic-tac-toe-3d.jpg\" style=\"width: 200px\"/>"
   ]
  },
  {
   "cell_type": "markdown",
   "metadata": {},
   "source": [
    "### Q8. How did you approach the problem of representing the solution space, and why?  Did you face any specific problem for this – for instance, choosing between different possible representations? How did you overcome any such problem? Give as example how, in your approach, Tic-Tac-Toe (3D version) will be represented, and explain clearly how one can read off the strategy for Tic-Tac-Toe from this “chromosome”. [2 Marks] "
   ]
  },
  {
   "cell_type": "raw",
   "metadata": {},
   "source": [
    "The solution space can be represented by the integers of each square using the individuals as indices.\n",
    "Here is an example representation of the the Tic-Tac-Toe game:\n",
    "\n"
   ]
  },
  {
   "cell_type": "markdown",
   "metadata": {},
   "source": [
    "### Q9. What  fitness  function  did you  choose  to  go  with  your  approach,  and  why?   As  before, describe if you faced any specific problem in this context, and how you overcame it. [1 Marks]"
   ]
  },
  {
   "cell_type": "raw",
   "metadata": {},
   "source": [
    "The use of "
   ]
  },
  {
   "cell_type": "markdown",
   "metadata": {},
   "source": [
    "### Q10. What parameters for Genetic algorithm did you choose?  For instance what type of crossover did you choose,  with what probability,  and why?  Also outline how you determined that the solution you received is good enough. [2 Marks]"
   ]
  },
  {
   "cell_type": "raw",
   "metadata": {},
   "source": [
    "The uniform crossover is used to maintain relative integrity of the strategy base. The use of a lower probability of 10% for the crossover"
   ]
  },
  {
   "cell_type": "markdown",
   "metadata": {},
   "source": [
    "### Q11. Provide your complete code for solving 3D (3 x 3 x 3) Tic-Tac-Toe using Genetic Algorithm. Note that this code should be complete (should not call any methods from the above code for solving TSP). You need to design the layout of the game either in console (command prompt) or Graphical User Interface (GUI) so that human (one of the players) can play against the AI machine (GA). [ 3 Marks]\n",
    "\n",
    "### On execution of your code:\n",
    "- it asks the human to pick one of {X, O} as their preferred mark. \n",
    "- it lets the human player choose who would start the game.\n",
    "- After the game is over, it displays the result (who wins/loses or it ended in a draw)"
   ]
  },
  {
   "cell_type": "code",
   "execution_count": null,
   "metadata": {},
   "outputs": [],
   "source": []
  },
  {
   "cell_type": "code",
   "execution_count": 5,
   "metadata": {},
   "outputs": [
    {
     "name": "stderr",
     "output_type": "stream",
     "text": [
      "C:\\Users\\willk\\Anaconda3\\lib\\site-packages\\deap\\creator.py:141: RuntimeWarning: A class named 'FitnessMax' has already been created and it will be overwritten. Consider deleting previous creation of that class or rename it.\n",
      "  RuntimeWarning)\n",
      "C:\\Users\\willk\\Anaconda3\\lib\\site-packages\\deap\\creator.py:141: RuntimeWarning: A class named 'Individual' has already been created and it will be overwritten. Consider deleting previous creation of that class or rename it.\n",
      "  RuntimeWarning)\n"
     ]
    }
   ],
   "source": [
    "from deap import algorithms, base, creator, tools\n",
    "import matplotlib.pyplot as plt\n",
    "import matplotlib.colors as colors\n",
    "import matplotlib.cm as cmx\n",
    "\n",
    "import random, operator, time, itertools, math\n",
    "import numpy\n",
    "\n",
    "toolbox = base.Toolbox()\n",
    "    \n",
    "creator.create(\"FitnessMax\", base.Fitness, weights=(1.0,))\n",
    "creator.create(\"Individual\", list, fitness=creator.FitnessMax)\n",
    "    \n",
    "    ## Create Individuals from possible moves\n",
    "   # toolbox.register(\"indices\", game.possible_moves)\n",
    "\n",
    "def GA_TIC_TAC_AI(game):\n",
    "    toolbox = base.Toolbox()\n",
    "    \n",
    "    ## Create Individuals from possible moves\n",
    "   # toolbox.register(\"indices\", game.possible_moves)\n",
    "    \n",
    "    toolbox.register(\"indices\", numpy.random.permutation, game.possible_moves())\n",
    "    toolbox.register(\"individual\", tools.initIterate, creator.Individual,\n",
    "                 toolbox.indices)\n",
    "    toolbox.register(\"population\", tools.initRepeat, list, \n",
    "                 toolbox.individual)\n",
    "    \n",
    "    ## Use fitness function\n",
    "    toolbox.register(\"evaluate\",game.evaluation)\n",
    "    toolbox.register(\"mate\", tools.cxUniform,indpb=0.1)\n",
    "    toolbox.register(\"mutate\", tools.mutShuffleIndexes, indpb=0.05)\n",
    "    toolbox.register(\"select\", tools.selTournament, tournsize=3)\n",
    "    \n",
    "    fit_stats = tools.Statistics(key=operator.attrgetter(\"fitness.values\"))\n",
    "    fit_stats.register('mean', numpy.mean)\n",
    "    fit_stats.register('max', numpy.max)\n",
    "    \n",
    "    pop = toolbox.population(n=50)\n",
    "    \n",
    "    pop, log = algorithms.eaSimple(pop, toolbox,\n",
    "                                  cxpb=0.0, mutpb=0.1,\n",
    "                                  ngen=100, verbose=True, \n",
    "                                      stats=fit_stats)\n",
    "    \n",
    "    plt.figure(figsize=(11, 4))\n",
    "    plots = plt.plot(log.select('max'),'c-', log.select('mean'), 'b-')\n",
    "    plt.legend(plots, ('Maximum fitness', 'Mean fitness'), frameon=True)\n",
    "    plt.ylabel('Fitness'); plt.xlabel('Iterations');\n",
    "    best = max(pop, key=attrgetter(\"fitness\"))\n",
    "    print(best, best.fitness)\n",
    "    return best[0]\n",
    "    "
   ]
  },
  {
   "cell_type": "code",
   "execution_count": 7,
   "metadata": {},
   "outputs": [
    {
     "name": "stdout",
     "output_type": "stream",
     "text": [
      "Do you want to be X or O?\n",
      "O\n",
      "\n",
      ". . .\n",
      ". . .\n",
      ". . .\n",
      "\n",
      ". . .\n",
      ". . .\n",
      ". . .\n",
      "\n",
      ". . .\n",
      ". . .\n",
      ". . .\n",
      "gen\tnevals\tmean \tmax\n",
      "0  \t50    \t19.36\t23 \n",
      "1  \t3     \t21.48\t23 \n",
      "2  \t6     \t22.64\t23 \n",
      "3  \t6     \t22.92\t23 \n",
      "4  \t2     \t23   \t23 \n",
      "5  \t4     \t23   \t23 \n",
      "6  \t6     \t23   \t23 \n",
      "7  \t3     \t22.96\t23 \n",
      "8  \t2     \t22.88\t23 \n",
      "9  \t8     \t22.88\t23 \n",
      "10 \t7     \t22.84\t23 \n",
      "11 \t4     \t22.96\t23 \n",
      "12 \t5     \t22.88\t23 \n",
      "13 \t7     \t23   \t23 \n",
      "14 \t3     \t23   \t23 \n",
      "15 \t6     \t23   \t23 \n",
      "16 \t2     \t22.88\t23 \n",
      "17 \t4     \t23   \t23 \n",
      "18 \t4     \t22.84\t23 \n",
      "19 \t7     \t22.76\t25 \n",
      "20 \t3     \t23.08\t25 \n",
      "21 \t6     \t23.16\t25 \n",
      "22 \t5     \t23.08\t25 \n",
      "23 \t6     \t23.96\t25 \n",
      "24 \t4     \t24.76\t25 \n",
      "25 \t8     \t24.6 \t25 \n",
      "26 \t7     \t24.44\t25 \n",
      "27 \t5     \t24.96\t25 \n",
      "28 \t6     \t24.76\t25 \n",
      "29 \t6     \t24.76\t25 \n",
      "30 \t3     \t25   \t25 \n",
      "31 \t6     \t24.84\t25 \n",
      "32 \t5     \t24.92\t25 \n",
      "33 \t4     \t25   \t25 \n",
      "34 \t10    \t24.68\t25 \n",
      "35 \t6     \t24.88\t25 \n",
      "36 \t5     \t24.88\t25 \n",
      "37 \t3     \t25   \t25 \n",
      "38 \t5     \t24.68\t25 \n",
      "39 \t5     \t25   \t25 \n",
      "40 \t5     \t24.68\t25 \n",
      "41 \t4     \t24.88\t25 \n",
      "42 \t6     \t24.72\t25 \n",
      "43 \t3     \t24.88\t25 \n",
      "44 \t5     \t25   \t25 \n",
      "45 \t3     \t24.96\t25 \n",
      "46 \t4     \t24.88\t25 \n",
      "47 \t3     \t25   \t25 \n",
      "48 \t6     \t25   \t25 \n",
      "49 \t4     \t24.92\t25 \n",
      "50 \t0     \t25   \t25 \n",
      "51 \t5     \t24.8 \t25 \n",
      "52 \t6     \t24.64\t25 \n",
      "53 \t6     \t24.76\t25 \n",
      "54 \t7     \t24.84\t25 \n",
      "55 \t6     \t24.68\t25 \n",
      "56 \t6     \t25   \t25 \n",
      "57 \t4     \t25   \t25 \n",
      "58 \t2     \t25   \t25 \n",
      "59 \t4     \t25   \t25 \n",
      "60 \t3     \t24.84\t25 \n",
      "61 \t4     \t24.88\t25 \n",
      "62 \t5     \t25   \t25 \n",
      "63 \t5     \t25   \t25 \n",
      "64 \t5     \t24.92\t25 \n",
      "65 \t6     \t24.72\t25 \n",
      "66 \t4     \t25   \t25 \n",
      "67 \t6     \t24.92\t25 \n",
      "68 \t9     \t24.64\t25 \n",
      "69 \t3     \t24.88\t25 \n",
      "70 \t4     \t24.84\t25 \n",
      "71 \t4     \t25   \t25 \n",
      "72 \t7     \t24.8 \t25 \n",
      "73 \t8     \t24.8 \t25 \n",
      "74 \t7     \t24.76\t25 \n",
      "75 \t4     \t24.8 \t25 \n",
      "76 \t4     \t24.84\t25 \n",
      "77 \t6     \t24.88\t25 \n",
      "78 \t4     \t24.76\t25 \n",
      "79 \t4     \t24.84\t25 \n",
      "80 \t8     \t24.88\t25 \n",
      "81 \t5     \t24.96\t25 \n",
      "82 \t8     \t24.8 \t25 \n",
      "83 \t4     \t25   \t25 \n",
      "84 \t5     \t24.88\t25 \n",
      "85 \t2     \t24.8 \t25 \n",
      "86 \t4     \t24.8 \t25 \n",
      "87 \t4     \t25   \t25 \n",
      "88 \t5     \t24.76\t25 \n",
      "89 \t8     \t24.96\t25 \n",
      "90 \t4     \t24.92\t25 \n",
      "91 \t7     \t24.88\t25 \n",
      "92 \t4     \t24.92\t25 \n",
      "93 \t3     \t24.88\t25 \n",
      "94 \t6     \t24.84\t25 \n",
      "95 \t4     \t24.76\t25 \n",
      "96 \t3     \t24.92\t25 \n",
      "97 \t6     \t24.84\t25 \n",
      "98 \t5     \t24.64\t25 \n",
      "99 \t6     \t24.64\t25 \n",
      "100\t5     \t24.8 \t25 \n",
      "[14, 5, 23, 2, 19, 13, 6, 9, 18, 10, 16, 27, 15, 24, 25, 1, 22, 20, 7, 3, 11, 8, 17, 4, 21, 12, 26] (25.0,)\n",
      "\n",
      "Move #1: player 2 plays 14 :\n",
      "\n",
      ". . .\n",
      ". . .\n",
      ". . .\n",
      "\n",
      ". . .\n",
      ". X .\n",
      ". . .\n",
      "\n",
      ". . .\n",
      ". . .\n",
      ". . .\n",
      "\n",
      "Player 1 what do you play ? 1\n",
      "\n",
      "Move #2: player 1 plays 1 :\n",
      "\n",
      "O . .\n",
      ". . .\n",
      ". . .\n",
      "\n",
      ". . .\n",
      ". X .\n",
      ". . .\n",
      "\n",
      ". . .\n",
      ". . .\n",
      ". . .\n",
      "gen\tnevals\tmean \tmax\n",
      "0  \t50    \t18.44\t23 \n",
      "1  \t4     \t20.84\t23 \n",
      "2  \t10    \t22.08\t23 \n",
      "3  \t5     \t22.88\t23 \n",
      "4  \t6     \t23   \t23 \n",
      "5  \t4     \t22.72\t23 \n",
      "6  \t3     \t23   \t23 \n",
      "7  \t4     \t22.76\t23 \n",
      "8  \t3     \t23   \t23 \n",
      "9  \t3     \t23   \t23 \n",
      "10 \t5     \t23   \t23 \n",
      "11 \t5     \t23   \t23 \n",
      "12 \t4     \t23   \t23 \n",
      "13 \t3     \t23   \t23 \n",
      "14 \t5     \t23   \t23 \n",
      "15 \t6     \t22.88\t23 \n",
      "16 \t1     \t23   \t23 \n",
      "17 \t4     \t23   \t23 \n",
      "18 \t7     \t23   \t23 \n",
      "19 \t4     \t23   \t23 \n",
      "20 \t7     \t22.84\t23 \n",
      "21 \t6     \t23   \t23 \n",
      "22 \t6     \t22.88\t23 \n",
      "23 \t6     \t22.8 \t23 \n",
      "24 \t8     \t22.72\t23 \n",
      "25 \t6     \t22.88\t23 \n",
      "26 \t4     \t22.84\t23 \n",
      "27 \t3     \t23   \t23 \n",
      "28 \t9     \t22.56\t23 \n",
      "29 \t7     \t23   \t23 \n",
      "30 \t10    \t23   \t23 \n",
      "31 \t6     \t22.88\t23 \n",
      "32 \t7     \t22.92\t23 \n",
      "33 \t8     \t22.68\t23 \n",
      "34 \t4     \t22.88\t23 \n",
      "35 \t5     \t22.96\t23 \n",
      "36 \t6     \t22.84\t23 \n",
      "37 \t5     \t23   \t23 \n",
      "38 \t7     \t22.96\t23 \n",
      "39 \t2     \t23   \t23 \n",
      "40 \t6     \t23   \t23 \n",
      "41 \t7     \t22.84\t23 \n",
      "42 \t6     \t22.72\t23 \n",
      "43 \t6     \t22.8 \t23 \n",
      "44 \t3     \t23   \t23 \n",
      "45 \t4     \t23   \t23 \n",
      "46 \t5     \t23   \t23 \n",
      "47 \t6     \t22.92\t23 \n",
      "48 \t5     \t23   \t23 \n",
      "49 \t5     \t23   \t23 \n",
      "50 \t5     \t22.88\t23 \n",
      "51 \t6     \t22.92\t23 \n",
      "52 \t2     \t23   \t23 \n",
      "53 \t4     \t22.76\t23 \n",
      "54 \t4     \t22.84\t23 \n",
      "55 \t3     \t23   \t23 \n",
      "56 \t6     \t22.92\t23 \n",
      "57 \t4     \t22.92\t23 \n",
      "58 \t8     \t23   \t23 \n",
      "59 \t2     \t22.92\t23 \n",
      "60 \t5     \t22.96\t23 \n",
      "61 \t5     \t22.88\t23 \n",
      "62 \t3     \t23   \t23 \n",
      "63 \t7     \t23   \t23 \n",
      "64 \t8     \t22.76\t23 \n",
      "65 \t6     \t22.92\t23 \n",
      "66 \t5     \t22.96\t23 \n",
      "67 \t4     \t22.96\t23 \n",
      "68 \t5     \t23   \t23 \n",
      "69 \t11    \t22.84\t23 \n",
      "70 \t6     \t23   \t23 \n",
      "71 \t4     \t23   \t23 \n",
      "72 \t9     \t22.84\t23 \n",
      "73 \t3     \t22.88\t23 \n",
      "74 \t5     \t22.92\t23 \n",
      "75 \t5     \t22.88\t23 \n",
      "76 \t7     \t23   \t23 \n",
      "77 \t4     \t23   \t23 \n",
      "78 \t6     \t22.96\t23 \n",
      "79 \t6     \t22.88\t23 \n",
      "80 \t4     \t22.92\t23 \n",
      "81 \t4     \t23   \t23 \n",
      "82 \t6     \t22.84\t23 \n",
      "83 \t9     \t22.88\t23 \n",
      "84 \t1     \t23   \t23 \n",
      "85 \t4     \t22.92\t23 \n",
      "86 \t5     \t22.92\t23 \n",
      "87 \t8     \t23   \t23 \n",
      "88 \t6     \t22.84\t23 \n",
      "89 \t2     \t23   \t23 \n",
      "90 \t4     \t23   \t23 \n",
      "91 \t9     \t22.84\t23 \n",
      "92 \t3     \t22.92\t23 \n",
      "93 \t4     \t22.92\t23 \n",
      "94 \t3     \t22.8 \t23 \n",
      "95 \t5     \t22.92\t23 \n",
      "96 \t3     \t23   \t23 \n",
      "97 \t4     \t23   \t23 \n",
      "98 \t6     \t22.88\t23 \n",
      "99 \t8     \t22.92\t23 \n",
      "100\t9     \t23   \t23 \n",
      "[25, 16, 13, 24, 6, 7, 27, 4, 22, 18, 15, 12, 23, 5, 19, 10, 9, 20, 2, 26, 11, 17, 8, 3, 21] (23.0,)\n",
      "\n",
      "Move #3: player 2 plays 25 :\n",
      "\n",
      "O . .\n",
      ". . .\n",
      ". . .\n",
      "\n",
      ". . .\n",
      ". X .\n",
      ". . .\n",
      "\n",
      ". . .\n",
      ". . .\n",
      "X . .\n",
      "\n",
      "Player 1 what do you play ? 3\n",
      "\n",
      "Move #4: player 1 plays 3 :\n",
      "\n",
      "O . O\n",
      ". . .\n",
      ". . .\n",
      "\n",
      ". . .\n",
      ". X .\n",
      ". . .\n",
      "\n",
      ". . .\n",
      ". . .\n",
      "X . .\n",
      "gen\tnevals\tmean \tmax\n",
      "0  \t50    \t18.36\t23 \n",
      "1  \t7     \t20.32\t23 \n",
      "2  \t5     \t21.12\t23 \n",
      "3  \t5     \t21.36\t23 \n",
      "4  \t7     \t22.08\t23 \n",
      "5  \t6     \t22.6 \t23 \n",
      "6  \t2     \t22.96\t23 \n",
      "7  \t6     \t23   \t23 \n",
      "8  \t7     \t23   \t23 \n",
      "9  \t4     \t23   \t23 \n",
      "10 \t3     \t23   \t23 \n",
      "11 \t7     \t22.92\t23 \n",
      "12 \t8     \t23   \t23 \n",
      "13 \t6     \t22.8 \t23 \n",
      "14 \t2     \t23   \t23 \n",
      "15 \t4     \t23   \t23 \n",
      "16 \t2     \t23   \t23 \n",
      "17 \t5     \t22.88\t23 \n",
      "18 \t7     \t23   \t23 \n",
      "19 \t8     \t22.88\t23 \n",
      "20 \t7     \t22.88\t23 \n",
      "21 \t6     \t23   \t23 \n",
      "22 \t4     \t22.8 \t23 \n",
      "23 \t7     \t22.92\t23 \n",
      "24 \t2     \t23   \t23 \n",
      "25 \t3     \t23   \t23 \n",
      "26 \t9     \t22.8 \t23 \n",
      "27 \t4     \t22.88\t23 \n",
      "28 \t3     \t23   \t23 \n",
      "29 \t6     \t23   \t23 \n",
      "30 \t5     \t23   \t23 \n",
      "31 \t7     \t23   \t23 \n",
      "32 \t7     \t22.88\t23 \n",
      "33 \t2     \t23   \t23 \n",
      "34 \t5     \t22.8 \t23 \n",
      "35 \t8     \t23   \t23 \n",
      "36 \t8     \t23   \t23 \n",
      "37 \t6     \t23   \t23 \n",
      "38 \t5     \t23   \t23 \n",
      "39 \t8     \t22.8 \t23 \n",
      "40 \t8     \t22.92\t23 \n",
      "41 \t3     \t23   \t23 \n",
      "42 \t2     \t23   \t23 \n",
      "43 \t6     \t23   \t23 \n",
      "44 \t4     \t23   \t23 \n",
      "45 \t4     \t23   \t23 \n",
      "46 \t7     \t23   \t23 \n",
      "47 \t5     \t22.84\t23 \n",
      "48 \t4     \t23   \t23 \n",
      "49 \t3     \t23   \t23 \n",
      "50 \t7     \t22.84\t23 \n",
      "51 \t7     \t23   \t23 \n",
      "52 \t4     \t23   \t23 \n",
      "53 \t6     \t22.84\t23 \n",
      "54 \t6     \t23   \t23 \n",
      "55 \t10    \t22.88\t23 \n",
      "56 \t4     \t23   \t23 \n",
      "57 \t4     \t23   \t23 \n",
      "58 \t8     \t23   \t23 \n",
      "59 \t6     \t22.88\t23 \n",
      "60 \t7     \t23   \t23 \n",
      "61 \t7     \t22.84\t23 \n",
      "62 \t3     \t22.96\t23 \n",
      "63 \t0     \t23   \t23 \n",
      "64 \t4     \t23   \t23 \n",
      "65 \t5     \t23   \t23 \n",
      "66 \t5     \t23   \t23 \n",
      "67 \t5     \t23   \t23 \n",
      "68 \t4     \t23   \t23 \n",
      "69 \t3     \t22.84\t23 \n",
      "70 \t4     \t23   \t23 \n",
      "71 \t6     \t22.88\t23 \n",
      "72 \t6     \t23   \t23 \n",
      "73 \t4     \t22.8 \t23 \n",
      "74 \t5     \t23   \t23 \n",
      "75 \t3     \t23   \t23 \n",
      "76 \t5     \t22.84\t23 \n",
      "77 \t10    \t22.88\t23 \n",
      "78 \t4     \t23   \t23 \n",
      "79 \t6     \t22.8 \t23 \n",
      "80 \t0     \t23   \t23 \n",
      "81 \t2     \t23   \t23 \n",
      "82 \t1     \t23   \t23 \n",
      "83 \t1     \t23   \t23 \n",
      "84 \t2     \t23   \t23 \n",
      "85 \t4     \t23   \t23 \n",
      "86 \t6     \t22.96\t23 \n",
      "87 \t2     \t22.84\t23 \n",
      "88 \t3     \t23   \t23 \n",
      "89 \t10    \t23   \t23 \n",
      "90 \t9     \t22.92\t23 \n",
      "91 \t3     \t23   \t23 \n",
      "92 \t5     \t22.88\t23 \n",
      "93 \t1     \t23   \t23 \n",
      "94 \t8     \t23   \t23 \n",
      "95 \t4     \t23   \t23 \n",
      "96 \t7     \t22.76\t23 \n",
      "97 \t2     \t23   \t23 \n",
      "98 \t3     \t23   \t23 \n",
      "99 \t7     \t23   \t23 \n",
      "100\t4     \t23   \t23 \n",
      "[2, 10, 12, 22, 6, 4, 9, 11, 26, 19, 23, 13, 27, 5, 20, 18, 7, 21, 15, 8, 16, 24, 17] (23.0,)\n",
      "\n",
      "Move #5: player 2 plays 2 :\n",
      "\n",
      "O X O\n",
      ". . .\n",
      ". . .\n",
      "\n",
      ". . .\n",
      ". X .\n",
      ". . .\n",
      "\n",
      ". . .\n",
      ". . .\n",
      "X . .\n",
      "\n",
      "Player 1 what do you play ? 26\n",
      "\n",
      "Move #6: player 1 plays 26 :\n",
      "\n",
      "O X O\n",
      ". . .\n",
      ". . .\n",
      "\n",
      ". . .\n",
      ". X .\n",
      ". . .\n",
      "\n",
      ". . .\n",
      ". . .\n",
      "X O .\n",
      "gen\tnevals\tmean \tmax\n",
      "0  \t50    \t16.08\t19 \n",
      "1  \t3     \t17.36\t19 \n",
      "2  \t4     \t18.48\t19 \n",
      "3  \t4     \t18.88\t19 \n",
      "4  \t5     \t18.96\t19 \n",
      "5  \t5     \t19   \t19 \n",
      "6  \t6     \t18.92\t19 \n",
      "7  \t5     \t18.84\t19 \n",
      "8  \t5     \t18.84\t19 \n",
      "9  \t8     \t18.96\t19 \n",
      "10 \t6     \t18.96\t19 \n",
      "11 \t6     \t18.88\t19 \n",
      "12 \t5     \t18.88\t19 \n",
      "13 \t4     \t18.84\t19 \n",
      "14 \t6     \t18.92\t19 \n",
      "15 \t3     \t19   \t19 \n",
      "16 \t6     \t18.88\t19 \n",
      "17 \t3     \t19   \t19 \n",
      "18 \t7     \t18.84\t19 \n",
      "19 \t4     \t19   \t19 \n",
      "20 \t2     \t19   \t19 \n",
      "21 \t6     \t18.8 \t19 \n",
      "22 \t3     \t19   \t19 \n",
      "23 \t4     \t18.92\t19 \n",
      "24 \t7     \t19   \t19 \n",
      "25 \t3     \t19   \t19 \n",
      "26 \t6     \t19   \t19 \n",
      "27 \t5     \t19   \t19 \n",
      "28 \t5     \t19   \t19 \n",
      "29 \t7     \t18.96\t19 \n",
      "30 \t5     \t18.88\t19 \n",
      "31 \t4     \t19   \t19 \n",
      "32 \t4     \t19   \t19 \n",
      "33 \t6     \t19   \t19 \n",
      "34 \t9     \t18.92\t19 \n",
      "35 \t4     \t19   \t19 \n",
      "36 \t7     \t19   \t19 \n",
      "37 \t4     \t19   \t19 \n"
     ]
    },
    {
     "name": "stdout",
     "output_type": "stream",
     "text": [
      "38 \t7     \t18.8 \t19 \n",
      "39 \t6     \t18.92\t19 \n",
      "40 \t6     \t18.88\t19 \n",
      "41 \t2     \t18.92\t19 \n",
      "42 \t6     \t18.84\t19 \n",
      "43 \t7     \t19   \t19 \n",
      "44 \t7     \t19   \t19 \n",
      "45 \t5     \t19   \t19 \n",
      "46 \t6     \t19   \t19 \n",
      "47 \t2     \t19   \t19 \n",
      "48 \t9     \t19   \t19 \n",
      "49 \t4     \t19   \t19 \n",
      "50 \t2     \t19   \t19 \n",
      "51 \t6     \t18.92\t19 \n",
      "52 \t6     \t18.76\t19 \n",
      "53 \t6     \t19   \t19 \n",
      "54 \t4     \t18.92\t19 \n",
      "55 \t6     \t18.84\t19 \n",
      "56 \t4     \t18.84\t19 \n",
      "57 \t4     \t18.88\t19 \n",
      "58 \t7     \t18.84\t19 \n",
      "59 \t4     \t18.84\t19 \n",
      "60 \t7     \t18.92\t19 \n",
      "61 \t4     \t18.92\t19 \n",
      "62 \t3     \t19   \t19 \n",
      "63 \t6     \t18.92\t19 \n",
      "64 \t6     \t19   \t19 \n",
      "65 \t4     \t18.96\t19 \n",
      "66 \t7     \t18.96\t19 \n",
      "67 \t7     \t18.8 \t19 \n",
      "68 \t6     \t18.92\t19 \n",
      "69 \t6     \t18.92\t19 \n",
      "70 \t5     \t19   \t19 \n",
      "71 \t4     \t18.88\t19 \n",
      "72 \t6     \t19   \t19 \n",
      "73 \t4     \t18.88\t19 \n",
      "74 \t6     \t18.96\t19 \n",
      "75 \t8     \t18.88\t19 \n",
      "76 \t6     \t18.8 \t19 \n",
      "77 \t4     \t19   \t19 \n",
      "78 \t3     \t19   \t19 \n",
      "79 \t7     \t19   \t19 \n",
      "80 \t3     \t19   \t19 \n",
      "81 \t3     \t19   \t19 \n",
      "82 \t2     \t19   \t19 \n",
      "83 \t3     \t18.88\t19 \n",
      "84 \t6     \t18.96\t19 \n",
      "85 \t2     \t18.96\t19 \n",
      "86 \t3     \t19   \t19 \n",
      "87 \t3     \t19   \t19 \n",
      "88 \t6     \t19   \t19 \n",
      "89 \t5     \t18.88\t19 \n",
      "90 \t4     \t18.96\t19 \n",
      "91 \t5     \t18.96\t19 \n",
      "92 \t2     \t19   \t19 \n",
      "93 \t6     \t19   \t19 \n",
      "94 \t4     \t19   \t19 \n",
      "95 \t3     \t18.92\t19 \n",
      "96 \t4     \t19   \t19 \n",
      "97 \t7     \t18.8 \t19 \n",
      "98 \t3     \t18.96\t19 \n",
      "99 \t3     \t18.96\t19 \n",
      "100\t1     \t18.96\t19 \n",
      "[8, 17, 18, 20, 12, 10, 16, 5, 19, 13, 23, 9, 6, 7, 15, 21, 22, 24, 11, 4, 27] (19.0,)\n",
      "\n",
      "Move #7: player 2 plays 8 :\n",
      "\n",
      "O X O\n",
      ". . .\n",
      ". X .\n",
      "\n",
      ". . .\n",
      ". X .\n",
      ". . .\n",
      "\n",
      ". . .\n",
      ". . .\n",
      "X O .\n",
      "\n",
      "Player 1 what do you play ? 5\n",
      "\n",
      "Move #8: player 1 plays 5 :\n",
      "\n",
      "O X O\n",
      ". O .\n",
      ". X .\n",
      "\n",
      ". . .\n",
      ". X .\n",
      ". . .\n",
      "\n",
      ". . .\n",
      ". . .\n",
      "X O .\n",
      "gen\tnevals\tmean \tmax\n",
      "0  \t50    \t15.24\t19 \n",
      "1  \t3     \t17.28\t19 \n",
      "2  \t4     \t18.52\t19 \n",
      "3  \t6     \t18.96\t19 \n",
      "4  \t5     \t19   \t19 \n",
      "5  \t6     \t19   \t19 \n",
      "6  \t4     \t18.92\t19 \n",
      "7  \t5     \t18.96\t19 \n",
      "8  \t6     \t19   \t19 \n",
      "9  \t6     \t18.92\t19 \n",
      "10 \t3     \t19   \t19 \n",
      "11 \t4     \t19   \t19 \n",
      "12 \t6     \t18.92\t19 \n",
      "13 \t2     \t19   \t19 \n",
      "14 \t6     \t18.96\t19 \n",
      "15 \t7     \t18.88\t19 \n",
      "16 \t6     \t19   \t19 \n",
      "17 \t4     \t18.92\t19 \n",
      "18 \t3     \t19   \t19 \n",
      "19 \t7     \t18.88\t19 \n",
      "20 \t7     \t18.96\t19 \n",
      "21 \t4     \t19   \t19 \n",
      "22 \t4     \t19   \t19 \n",
      "23 \t4     \t18.92\t19 \n",
      "24 \t3     \t18.96\t19 \n",
      "25 \t6     \t19   \t19 \n",
      "26 \t3     \t19   \t19 \n",
      "27 \t6     \t18.88\t19 \n",
      "28 \t5     \t18.96\t19 \n",
      "29 \t9     \t19   \t19 \n",
      "30 \t4     \t18.96\t19 \n",
      "31 \t7     \t19   \t19 \n",
      "32 \t8     \t18.96\t19 \n",
      "33 \t4     \t18.96\t19 \n",
      "34 \t4     \t19   \t19 \n",
      "35 \t2     \t18.88\t19 \n",
      "36 \t6     \t19   \t19 \n",
      "37 \t4     \t19   \t19 \n",
      "38 \t5     \t19   \t19 \n",
      "39 \t8     \t19   \t19 \n",
      "40 \t5     \t19   \t19 \n",
      "41 \t5     \t19   \t19 \n",
      "42 \t5     \t18.92\t19 \n",
      "43 \t6     \t18.96\t19 \n",
      "44 \t7     \t18.92\t19 \n",
      "45 \t2     \t19   \t19 \n",
      "46 \t9     \t18.92\t19 \n",
      "47 \t4     \t18.96\t19 \n",
      "48 \t9     \t19   \t19 \n",
      "49 \t4     \t19   \t19 \n",
      "50 \t4     \t19   \t19 \n",
      "51 \t3     \t19   \t19 \n",
      "52 \t0     \t19   \t19 \n",
      "53 \t7     \t18.96\t19 \n",
      "54 \t4     \t19   \t19 \n",
      "55 \t7     \t19   \t19 \n",
      "56 \t6     \t19   \t19 \n",
      "57 \t6     \t19   \t19 \n",
      "58 \t6     \t18.96\t19 \n",
      "59 \t5     \t19   \t19 \n",
      "60 \t4     \t19   \t19 \n",
      "61 \t3     \t19   \t19 \n",
      "62 \t1     \t19   \t19 \n",
      "63 \t4     \t19   \t19 \n",
      "64 \t3     \t18.96\t19 \n",
      "65 \t6     \t18.96\t19 \n",
      "66 \t5     \t18.96\t19 \n",
      "67 \t12    \t19   \t19 \n",
      "68 \t5     \t18.92\t19 \n",
      "69 \t6     \t18.96\t19 \n",
      "70 \t10    \t18.96\t19 \n",
      "71 \t1     \t19   \t19 \n",
      "72 \t10    \t18.92\t19 \n",
      "73 \t2     \t19   \t19 \n",
      "74 \t2     \t19   \t19 \n",
      "75 \t7     \t18.92\t19 \n",
      "76 \t4     \t18.96\t19 \n",
      "77 \t5     \t19   \t19 \n",
      "78 \t3     \t19   \t19 \n",
      "79 \t6     \t18.96\t19 \n",
      "80 \t6     \t19   \t19 \n",
      "81 \t6     \t19   \t19 \n",
      "82 \t2     \t19   \t19 \n",
      "83 \t8     \t19   \t19 \n",
      "84 \t5     \t19   \t19 \n",
      "85 \t3     \t18.88\t19 \n",
      "86 \t7     \t18.96\t19 \n",
      "87 \t2     \t19   \t19 \n",
      "88 \t4     \t19   \t19 \n",
      "89 \t7     \t18.96\t19 \n",
      "90 \t3     \t19   \t19 \n",
      "91 \t8     \t18.92\t19 \n",
      "92 \t3     \t19   \t19 \n",
      "93 \t4     \t19   \t19 \n",
      "94 \t4     \t18.92\t19 \n",
      "95 \t6     \t19   \t19 \n",
      "96 \t4     \t19   \t19 \n",
      "97 \t6     \t19   \t19 \n",
      "98 \t10    \t18.96\t19 \n",
      "99 \t5     \t18.92\t19 \n",
      "100\t7     \t19   \t19 \n",
      "[9, 7, 27, 11, 19, 10, 24, 15, 16, 23, 6, 12, 17, 18, 20, 21, 13, 22, 4] (19.0,)\n",
      "\n",
      "Move #9: player 2 plays 9 :\n",
      "\n",
      "O X O\n",
      ". O .\n",
      ". X X\n",
      "\n",
      ". . .\n",
      ". X .\n",
      ". . .\n",
      "\n",
      ". . .\n",
      ". . .\n",
      "X O .\n",
      "\n",
      "Player 1 what do you play ? 7\n",
      "\n",
      "Move #10: player 1 plays 7 :\n",
      "\n",
      "O X O\n",
      ". O .\n",
      "O X X\n",
      "\n",
      ". . .\n",
      ". X .\n",
      ". . .\n",
      "\n",
      ". . .\n",
      ". . .\n",
      "X O .\n"
     ]
    },
    {
     "data": {
      "image/png": "[encoded data removed]",
      "text/plain": [
       "<Figure size 792x288 with 1 Axes>"
      ]
     },
     "metadata": {},
     "output_type": "display_data"
    },
    {
     "data": {
      "image/png": "[encoded data removed]",
      "text/plain": [
       "<Figure size 792x288 with 1 Axes>"
      ]
     },
     "metadata": {},
     "output_type": "display_data"
    },
    {
     "data": {
      "image/png": "[encoded data removed]",
      "text/plain": [
       "<Figure size 792x288 with 1 Axes>"
      ]
     },
     "metadata": {},
     "output_type": "display_data"
    },
    {
     "data": {
      "image/png": "[encoded data removed]",
      "text/plain": [
       "<Figure size 792x288 with 1 Axes>"
      ]
     },
     "metadata": {},
     "output_type": "display_data"
    },
    {
     "data": {
      "image/png": "[encoded data removed]",
      "text/plain": [
       "<Figure size 792x288 with 1 Axes>"
      ]
     },
     "metadata": {},
     "output_type": "display_data"
    }
   ],
   "source": [
    "# Put your complete code here.\n",
    "# This is a variant of the Tic Tac Toe recipe given in the easyAI library\n",
    "\n",
    "from easyAI import TwoPlayersGame, AI_Player, Negamax\n",
    "from easyAI.Player import Human_Player\n",
    "from operator import attrgetter\n",
    "\n",
    "class GameController(TwoPlayersGame):\n",
    "    def __init__(self, players):\n",
    "        # Define the players\n",
    "        self.players = players\n",
    "        if (players[0] == Human_Player()):\n",
    "            self.nplayer = 1\n",
    "        else:\n",
    "            self.nplayer = 2\n",
    "        # Define the board\n",
    "        self.board = [0] * 27\n",
    "\n",
    "    \n",
    "    # Define possible moves\n",
    "    def possible_moves(self):\n",
    "        return [a + 1 for a, b in enumerate(self.board) if b == 0]\n",
    "    \n",
    "    # Make a move\n",
    "    def make_move(self, move):\n",
    "        self.board[int(move) - 1] = self.nplayer\n",
    "    \n",
    "    def makeLoss_Condition(self):\n",
    "        combos = [[1,2,3], [4,5,6], [7,8,9], [1,4,7], [2,5,8], [3,6,9], [1,5,9], [3,5,7]]\n",
    "        # 3D Diagonals\n",
    "        for i in range(1,4):\n",
    "            # 1-3, diagonal down\n",
    "            combos.append([i,i+12,i+24])\n",
    "            # 1,4,7 diagonal right\n",
    "            combos.append([(i-1)*3+1,(i-1)*3+10,i+20])\n",
    "            # 7-9 diagonal down\n",
    "            combos.append([(i+6),(i+6)+6,(i+6)+12])\n",
    "            # 3,6,9 diagonal left\n",
    "            combos.append([(i*3)+1,(i-1)*3+8,i+16])\n",
    "            \n",
    "        combos.append([1,14,27])\n",
    "        combos.append([3,14,25])\n",
    "        combos.append([9,14,19])\n",
    "        combos.append([7,14,21])\n",
    "        \n",
    "        # 3D Directly Z-down\n",
    "        for i in range(1,10):\n",
    "            combos.append([i,i+9,i+18])\n",
    "            \n",
    "        # For Middle and Bottom Layer\n",
    "        for i in range (1,3):\n",
    "            #10-12 down\n",
    "            for j in range(1,4):\n",
    "                combos.append([(i*9)+j,(i*9)+j+3,(i*9)+j+6])\n",
    "            #10,13,16 across\n",
    "            for j in range(1,4):\n",
    "                x = (i*9)+(j-1)*3\n",
    "                combos.append([x+1,x+2,x+3])\n",
    "                \n",
    "            #Middle and Bot layer diagonal\n",
    "            combos.append([(i*9)+1,(i*9)+5,(i*9)+9])\n",
    "            combos.append([(i*9)+7,(i*9)+5,(i*9)+3])\n",
    "            \n",
    "        return combos\n",
    "            \n",
    "\n",
    "    # Does the opponent have three in a line?\n",
    "    def loss_condition(self):\n",
    "        possible_combinations = self.makeLoss_Condition()\n",
    "\n",
    "        return any([all([(self.board[i-1] == self.nopponent)\n",
    "                for i in combination]) for combination in possible_combinations]) \n",
    "        \n",
    "    # Check if the game is over\n",
    "    def is_over(self):\n",
    "        if ((self.possible_moves() == [])):\n",
    "            print(\"It's a tie\")\n",
    "        \n",
    "        return (self.possible_moves() == []) or self.loss_condition()\n",
    "        \n",
    "    # Show current position\n",
    "    def show(self):\n",
    "        print('\\n'+'\\n'.join([' '\n",
    "                              .join([['.', 'O', 'X'][self.board[3*j + i]]\n",
    "                for i in range(3)])\n",
    "                              for j in range(3)]) + \n",
    "              '\\n' + '\\n' + '\\n'.join([' '\n",
    "                              .join([['.', 'O', 'X'][self.board[3*j + i+9]]\n",
    "                for i in range(3)]) \n",
    "                              for j in range(3)]) +\n",
    "        '\\n' + '\\n' + '\\n'.join([' '\n",
    "                              .join([['.', 'O', 'X'][self.board[3*j + i+18]]\n",
    "                for i in range(3)])\n",
    "                              for j in range(3)]))\n",
    "\n",
    "    def make_move1(self, move, board):\n",
    "        board[int(move) - 1] = self.nopponent\n",
    "        return board\n",
    "    \n",
    "    def make_move2(self, move, board):\n",
    "        board[int(move) - 1] =  self.nplayer\n",
    "        return board\n",
    "    \n",
    "    def Testloss_condition2(self, board):\n",
    "        possible_combinations = self.makeLoss_Condition()\n",
    "\n",
    "        return any([all([(board[i-1] == self.player)\n",
    "                for i in combination]) for combination in possible_combinations]) \n",
    "    \n",
    "    def Testloss_condition1(self, board):\n",
    "        possible_combinations = self.makeLoss_Condition()\n",
    "\n",
    "        return any([all([(board[i-1] == self.nopponent)\n",
    "                for i in combination]) for combination in possible_combinations]) \n",
    "        \n",
    "    def evaluation(self,individual):\n",
    "        i = 0\n",
    "        score = 0\n",
    "        fakeBoard = self.board.copy()\n",
    "        while (i < len(individual)-1 ): \n",
    "            fakeBoardOG = self.make_move2(individual[i], fakeBoard)\n",
    "            if (self.Testloss_condition2(fakeBoardOG)):\n",
    "                score = len(individual) - i + 1\n",
    "                break \n",
    "            fakeBoardThem = self.make_move1(individual[i],fakeBoard)\n",
    "            if (self.Testloss_condition1(fakeBoardThem)):\n",
    "                score = len(individual) - i\n",
    "                break\n",
    "            fakeBoard = self.make_move1(individual[i+1], fakeBoardOG)\n",
    "            i += 2\n",
    "        return (score,)\n",
    "\n",
    "    # Compute the score\n",
    "    def scoring(self):\n",
    "        return -100 if self.loss_condition() else 0\n",
    "\n",
    "\n",
    "if __name__ == \"__main__\":\n",
    "    # Define the algorithm\n",
    "    #algorithm = GA_TIC_TAC_AI\n",
    "    algo = GA_TIC_TAC_AI\n",
    "    # Start the game\n",
    "    letter = ''\n",
    "    while not (letter == 'X' or letter == 'O'):\n",
    "        print('Do you want to be X or O?')\n",
    "        letter = input().upper()\n",
    "    if (letter == 'O'):\n",
    "        GameController([Human_Player(),AI_Player(algo)]).play()\n",
    "    else:\n",
    "        GameController([AI_Player(algo),Human_Player()]).play()\n"
   ]
  },
  {
   "cell_type": "raw",
   "metadata": {},
   "source": []
  },
  {
   "cell_type": "markdown",
   "metadata": {},
   "source": [
    "## Your Submission method"
   ]
  },
  {
   "cell_type": "markdown",
   "metadata": {},
   "source": [
    "Your submission should consist of this jupyter notebook with all your code and explanations inserted in the notebook. The notebook should contain the output of the runs so that it can be read by the assessor without needing to run the output.\n",
    "\n",
    "You have already used Jupyter Notebook earlier in the unit. In case you need help, you may refer the following tutorial https://www.datacamp.com/community/tutorials/tutorial-jupyter-notebook .\n",
    "\n",
    "Late submissions may attract penalty in accordance with the assessment policy outlined in the unit guide.\n",
    "\n",
    "Each question specifies a mark. The final mark of the assignment is the sum of all the individual marks, after applying any deductions for late submission.\n",
    "\n",
    "By submitting this assignment you are acknowledging that this is your own work. Any submissions that break the code of academic honesty will be penalised as per the [academic honesty policy](https://staff.mq.edu.au/work/strategy-planning-and-governance/university-policies-and-procedures/policies/academic-honesty)."
   ]
  }
 ],
 "metadata": {
  "kernelspec": {
   "display_name": "Python 3",
   "language": "python",
   "name": "python3"
  },
  "language_info": {
   "codemirror_mode": {
    "name": "ipython",
    "version": 3
   },
   "file_extension": ".py",
   "mimetype": "text/x-python",
   "name": "python",
   "nbconvert_exporter": "python",
   "pygments_lexer": "ipython3",
   "version": "3.6.5"
  }
 },
 "nbformat": 4,
 "nbformat_minor": 2
}
